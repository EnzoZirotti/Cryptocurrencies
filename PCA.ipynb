{
 "cells": [
  {
   "cell_type": "code",
   "execution_count": 11,
   "metadata": {},
   "outputs": [],
   "source": [
    "import pandas as pd\n",
    "from sklearn.preprocessing import StandardScaler\n",
    "from sklearn.decomposition import PCA\n",
    "from sklearn.cluster import KMeans\n",
    "import hvplot.pandas\n"
   ]
  },
  {
   "cell_type": "code",
   "execution_count": 12,
   "metadata": {},
   "outputs": [
    {
     "data": {
      "text/html": [
       "<div>\n",
       "<style scoped>\n",
       "    .dataframe tbody tr th:only-of-type {\n",
       "        vertical-align: middle;\n",
       "    }\n",
       "\n",
       "    .dataframe tbody tr th {\n",
       "        vertical-align: top;\n",
       "    }\n",
       "\n",
       "    .dataframe thead th {\n",
       "        text-align: right;\n",
       "    }\n",
       "</style>\n",
       "<table border=\"1\" class=\"dataframe\">\n",
       "  <thead>\n",
       "    <tr style=\"text-align: right;\">\n",
       "      <th></th>\n",
       "      <th>sepal_length</th>\n",
       "      <th>sepal_width</th>\n",
       "      <th>petal_length</th>\n",
       "      <th>petal_width</th>\n",
       "    </tr>\n",
       "  </thead>\n",
       "  <tbody>\n",
       "    <tr>\n",
       "      <th>0</th>\n",
       "      <td>5.1</td>\n",
       "      <td>3.5</td>\n",
       "      <td>1.4</td>\n",
       "      <td>0.2</td>\n",
       "    </tr>\n",
       "    <tr>\n",
       "      <th>1</th>\n",
       "      <td>4.9</td>\n",
       "      <td>3.0</td>\n",
       "      <td>1.4</td>\n",
       "      <td>0.2</td>\n",
       "    </tr>\n",
       "    <tr>\n",
       "      <th>2</th>\n",
       "      <td>4.7</td>\n",
       "      <td>3.2</td>\n",
       "      <td>1.3</td>\n",
       "      <td>0.2</td>\n",
       "    </tr>\n",
       "    <tr>\n",
       "      <th>3</th>\n",
       "      <td>4.6</td>\n",
       "      <td>3.1</td>\n",
       "      <td>1.5</td>\n",
       "      <td>0.2</td>\n",
       "    </tr>\n",
       "    <tr>\n",
       "      <th>4</th>\n",
       "      <td>5.0</td>\n",
       "      <td>3.6</td>\n",
       "      <td>1.4</td>\n",
       "      <td>0.2</td>\n",
       "    </tr>\n",
       "  </tbody>\n",
       "</table>\n",
       "</div>"
      ],
      "text/plain": [
       "   sepal_length  sepal_width  petal_length  petal_width\n",
       "0           5.1          3.5           1.4          0.2\n",
       "1           4.9          3.0           1.4          0.2\n",
       "2           4.7          3.2           1.3          0.2\n",
       "3           4.6          3.1           1.5          0.2\n",
       "4           5.0          3.6           1.4          0.2"
      ]
     },
     "execution_count": 12,
     "metadata": {},
     "output_type": "execute_result"
    }
   ],
   "source": [
    "file_path = \"Resources/new_iris_data.csv\"\n",
    "df_iris = pd.read_csv(file_path)\n",
    "df_iris.head()"
   ]
  },
  {
   "cell_type": "code",
   "execution_count": 13,
   "metadata": {},
   "outputs": [
    {
     "name": "stdout",
     "output_type": "stream",
     "text": [
      "[[-0.90068117  1.03205722 -1.3412724  -1.31297673]\n",
      " [-1.14301691 -0.1249576  -1.3412724  -1.31297673]\n",
      " [-1.38535265  0.33784833 -1.39813811 -1.31297673]\n",
      " [-1.50652052  0.10644536 -1.2844067  -1.31297673]\n",
      " [-1.02184904  1.26346019 -1.3412724  -1.31297673]]\n"
     ]
    }
   ],
   "source": [
    "iris_scaled = StandardScaler().fit_transform(df_iris)\n",
    "print(iris_scaled[0:5])"
   ]
  },
  {
   "cell_type": "code",
   "execution_count": 14,
   "metadata": {},
   "outputs": [],
   "source": [
    "# Initialize PCA model\n",
    "pca = PCA(n_components=2)\n"
   ]
  },
  {
   "cell_type": "code",
   "execution_count": 15,
   "metadata": {},
   "outputs": [],
   "source": [
    "# Get two principal components for the iris data.\n",
    "iris_pca = pca.fit_transform(iris_scaled)\n"
   ]
  },
  {
   "cell_type": "code",
   "execution_count": 16,
   "metadata": {},
   "outputs": [
    {
     "data": {
      "text/html": [
       "<div>\n",
       "<style scoped>\n",
       "    .dataframe tbody tr th:only-of-type {\n",
       "        vertical-align: middle;\n",
       "    }\n",
       "\n",
       "    .dataframe tbody tr th {\n",
       "        vertical-align: top;\n",
       "    }\n",
       "\n",
       "    .dataframe thead th {\n",
       "        text-align: right;\n",
       "    }\n",
       "</style>\n",
       "<table border=\"1\" class=\"dataframe\">\n",
       "  <thead>\n",
       "    <tr style=\"text-align: right;\">\n",
       "      <th></th>\n",
       "      <th>principal component 1</th>\n",
       "      <th>principal component 2</th>\n",
       "    </tr>\n",
       "  </thead>\n",
       "  <tbody>\n",
       "    <tr>\n",
       "      <th>0</th>\n",
       "      <td>-2.264542</td>\n",
       "      <td>0.505704</td>\n",
       "    </tr>\n",
       "    <tr>\n",
       "      <th>1</th>\n",
       "      <td>-2.086426</td>\n",
       "      <td>-0.655405</td>\n",
       "    </tr>\n",
       "    <tr>\n",
       "      <th>2</th>\n",
       "      <td>-2.367950</td>\n",
       "      <td>-0.318477</td>\n",
       "    </tr>\n",
       "    <tr>\n",
       "      <th>3</th>\n",
       "      <td>-2.304197</td>\n",
       "      <td>-0.575368</td>\n",
       "    </tr>\n",
       "    <tr>\n",
       "      <th>4</th>\n",
       "      <td>-2.388777</td>\n",
       "      <td>0.674767</td>\n",
       "    </tr>\n",
       "  </tbody>\n",
       "</table>\n",
       "</div>"
      ],
      "text/plain": [
       "   principal component 1  principal component 2\n",
       "0              -2.264542               0.505704\n",
       "1              -2.086426              -0.655405\n",
       "2              -2.367950              -0.318477\n",
       "3              -2.304197              -0.575368\n",
       "4              -2.388777               0.674767"
      ]
     },
     "execution_count": 16,
     "metadata": {},
     "output_type": "execute_result"
    }
   ],
   "source": [
    "df_iris_pca = pd.DataFrame(\n",
    "    data=iris_pca, columns=[\"principal component 1\", \"principal component 2\"]\n",
    ")\n",
    "df_iris_pca.head()"
   ]
  },
  {
   "cell_type": "code",
   "execution_count": 17,
   "metadata": {},
   "outputs": [
    {
     "data": {
      "text/plain": [
       "array([0.72770452, 0.23030523])"
      ]
     },
     "execution_count": 17,
     "metadata": {},
     "output_type": "execute_result"
    }
   ],
   "source": [
    "# Fetch the explained variance\n",
    "\n",
    "pca.explained_variance_ratio_\n"
   ]
  },
  {
   "cell_type": "code",
   "execution_count": 18,
   "metadata": {},
   "outputs": [
    {
     "name": "stderr",
     "output_type": "stream",
     "text": [
      "C:\\Users\\zirot\\anaconda3\\envs\\mlenv\\lib\\site-packages\\sklearn\\cluster\\_kmeans.py:882: UserWarning: KMeans is known to have a memory leak on Windows with MKL, when there are less chunks than available threads. You can avoid it by setting the environment variable OMP_NUM_THREADS=1.\n",
      "  f\"KMeans is known to have a memory leak on Windows \"\n"
     ]
    },
    {
     "data": {},
     "metadata": {},
     "output_type": "display_data"
    },
    {
     "data": {
      "application/vnd.holoviews_exec.v0+json": "",
      "text/html": [
       "<div id='1428'>\n",
       "\n",
       "\n",
       "\n",
       "\n",
       "\n",
       "  <div class=\"bk-root\" id=\"ec13e061-61e4-4f03-99bf-a28a8374f50f\" data-root-id=\"1428\"></div>\n",
       "</div>\n",
       "<script type=\"application/javascript\">(function(root) {\n",
       "  function embed_document(root) {\n",
       "    var docs_json = {\"8683ae1f-d406-492e-b73b-f8eb7d7d227c\":{\"defs\":[{\"extends\":null,\"module\":null,\"name\":\"ReactiveHTML1\",\"overrides\":[],\"properties\":[]},{\"extends\":null,\"module\":null,\"name\":\"FlexBox1\",\"overrides\":[],\"properties\":[{\"default\":\"flex-start\",\"kind\":null,\"name\":\"align_content\"},{\"default\":\"flex-start\",\"kind\":null,\"name\":\"align_items\"},{\"default\":\"row\",\"kind\":null,\"name\":\"flex_direction\"},{\"default\":\"wrap\",\"kind\":null,\"name\":\"flex_wrap\"},{\"default\":\"flex-start\",\"kind\":null,\"name\":\"justify_content\"}]},{\"extends\":null,\"module\":null,\"name\":\"GridStack1\",\"overrides\":[],\"properties\":[{\"default\":\"warn\",\"kind\":null,\"name\":\"mode\"},{\"default\":null,\"kind\":null,\"name\":\"ncols\"},{\"default\":null,\"kind\":null,\"name\":\"nrows\"},{\"default\":true,\"kind\":null,\"name\":\"allow_resize\"},{\"default\":true,\"kind\":null,\"name\":\"allow_drag\"},{\"default\":[],\"kind\":null,\"name\":\"state\"}]},{\"extends\":null,\"module\":null,\"name\":\"click1\",\"overrides\":[],\"properties\":[{\"default\":\"\",\"kind\":null,\"name\":\"terminal_output\"},{\"default\":\"\",\"kind\":null,\"name\":\"debug_name\"},{\"default\":0,\"kind\":null,\"name\":\"clears\"}]},{\"extends\":null,\"module\":null,\"name\":\"TemplateActions1\",\"overrides\":[],\"properties\":[{\"default\":0,\"kind\":null,\"name\":\"open_modal\"},{\"default\":0,\"kind\":null,\"name\":\"close_modal\"}]},{\"extends\":null,\"module\":null,\"name\":\"MaterialTemplateActions1\",\"overrides\":[],\"properties\":[{\"default\":0,\"kind\":null,\"name\":\"open_modal\"},{\"default\":0,\"kind\":null,\"name\":\"close_modal\"}]}],\"roots\":{\"references\":[{\"attributes\":{\"margin\":[5,5,5,5],\"name\":\"HSpacer02436\",\"sizing_mode\":\"stretch_width\"},\"id\":\"1429\",\"type\":\"Spacer\"},{\"attributes\":{},\"id\":\"1438\",\"type\":\"LinearScale\"},{\"attributes\":{\"axis\":{\"id\":\"1446\"},\"coordinates\":null,\"dimension\":1,\"grid_line_color\":null,\"group\":null,\"ticker\":null},\"id\":\"1449\",\"type\":\"Grid\"},{\"attributes\":{},\"id\":\"1474\",\"type\":\"BasicTickFormatter\"},{\"attributes\":{\"end\":10.0,\"reset_end\":10.0,\"reset_start\":1.0,\"start\":1.0,\"tags\":[[[\"k\",\"k\",null]]]},\"id\":\"1430\",\"type\":\"Range1d\"},{\"attributes\":{},\"id\":\"1480\",\"type\":\"AllLabels\"},{\"attributes\":{\"line_color\":\"#30a2da\",\"line_width\":2,\"x\":{\"field\":\"k\"},\"y\":{\"field\":\"inertia\"}},\"id\":\"1471\",\"type\":\"Line\"},{\"attributes\":{\"source\":{\"id\":\"1463\"}},\"id\":\"1470\",\"type\":\"CDSView\"},{\"attributes\":{},\"id\":\"1447\",\"type\":\"BasicTicker\"},{\"attributes\":{},\"id\":\"1475\",\"type\":\"AllLabels\"},{\"attributes\":{\"coordinates\":null,\"group\":null,\"text\":\"Elbow Curve\",\"text_color\":\"black\",\"text_font_size\":\"12pt\"},\"id\":\"1434\",\"type\":\"Title\"},{\"attributes\":{\"tools\":[{\"id\":\"1432\"},{\"id\":\"1450\"},{\"id\":\"1451\"},{\"id\":\"1452\"},{\"id\":\"1453\"},{\"id\":\"1454\"}]},\"id\":\"1456\",\"type\":\"Toolbar\"},{\"attributes\":{\"line_alpha\":0.1,\"line_color\":\"#30a2da\",\"line_width\":2,\"x\":{\"field\":\"k\"},\"y\":{\"field\":\"inertia\"}},\"id\":\"1467\",\"type\":\"Line\"},{\"attributes\":{},\"id\":\"1450\",\"type\":\"SaveTool\"},{\"attributes\":{\"end\":629.4448064337399,\"reset_end\":629.4448064337399,\"reset_start\":-26.222644744436877,\"start\":-26.222644744436877,\"tags\":[[[\"inertia\",\"inertia\",null]]]},\"id\":\"1431\",\"type\":\"Range1d\"},{\"attributes\":{},\"id\":\"1451\",\"type\":\"PanTool\"},{\"attributes\":{},\"id\":\"1487\",\"type\":\"UnionRenderers\"},{\"attributes\":{\"line_color\":\"#30a2da\",\"line_width\":2,\"x\":{\"field\":\"k\"},\"y\":{\"field\":\"inertia\"}},\"id\":\"1466\",\"type\":\"Line\"},{\"attributes\":{\"callback\":null,\"renderers\":[{\"id\":\"1469\"}],\"tags\":[\"hv_created\"],\"tooltips\":[[\"k\",\"@{k}\"],[\"inertia\",\"@{inertia}\"]]},\"id\":\"1432\",\"type\":\"HoverTool\"},{\"attributes\":{},\"id\":\"1454\",\"type\":\"ResetTool\"},{\"attributes\":{\"margin\":[5,5,5,5],\"name\":\"HSpacer02437\",\"sizing_mode\":\"stretch_width\"},\"id\":\"1499\",\"type\":\"Spacer\"},{\"attributes\":{\"line_alpha\":0.2,\"line_color\":\"#30a2da\",\"line_width\":2,\"x\":{\"field\":\"k\"},\"y\":{\"field\":\"inertia\"}},\"id\":\"1468\",\"type\":\"Line\"},{\"attributes\":{},\"id\":\"1452\",\"type\":\"WheelZoomTool\"},{\"attributes\":{\"overlay\":{\"id\":\"1455\"}},\"id\":\"1453\",\"type\":\"BoxZoomTool\"},{\"attributes\":{\"data\":{\"inertia\":{\"__ndarray__\":\"aTafYnL2gUAybWBmntZoQKWmqsr9Bl1AUvWgT6xnVkDi0qR94pNQQA8zFtg6gkxALolQDTvuR0D6MOcNVaJDQOq1b3wwFkBA9C2/QpNqPEA=\",\"dtype\":\"float64\",\"order\":\"little\",\"shape\":[10]},\"k\":[1,2,3,4,5,6,7,8,9,10]},\"selected\":{\"id\":\"1464\"},\"selection_policy\":{\"id\":\"1487\"}},\"id\":\"1463\",\"type\":\"ColumnDataSource\"},{\"attributes\":{\"axis\":{\"id\":\"1442\"},\"coordinates\":null,\"grid_line_color\":null,\"group\":null,\"ticker\":null},\"id\":\"1445\",\"type\":\"Grid\"},{\"attributes\":{\"ticks\":[1,2,3,4,5,6,7,8,9,10]},\"id\":\"1472\",\"type\":\"FixedTicker\"},{\"attributes\":{\"below\":[{\"id\":\"1442\"}],\"center\":[{\"id\":\"1445\"},{\"id\":\"1449\"}],\"height\":300,\"left\":[{\"id\":\"1446\"}],\"margin\":[5,5,5,5],\"min_border_bottom\":10,\"min_border_left\":10,\"min_border_right\":10,\"min_border_top\":10,\"renderers\":[{\"id\":\"1469\"}],\"sizing_mode\":\"fixed\",\"title\":{\"id\":\"1434\"},\"toolbar\":{\"id\":\"1456\"},\"width\":700,\"x_range\":{\"id\":\"1430\"},\"x_scale\":{\"id\":\"1438\"},\"y_range\":{\"id\":\"1431\"},\"y_scale\":{\"id\":\"1440\"}},\"id\":\"1433\",\"subtype\":\"Figure\",\"type\":\"Plot\"},{\"attributes\":{},\"id\":\"1440\",\"type\":\"LinearScale\"},{\"attributes\":{\"axis_label\":\"inertia\",\"coordinates\":null,\"formatter\":{\"id\":\"1479\"},\"group\":null,\"major_label_policy\":{\"id\":\"1480\"},\"ticker\":{\"id\":\"1447\"}},\"id\":\"1446\",\"type\":\"LinearAxis\"},{\"attributes\":{\"axis_label\":\"k\",\"coordinates\":null,\"formatter\":{\"id\":\"1474\"},\"group\":null,\"major_label_policy\":{\"id\":\"1475\"},\"ticker\":{\"id\":\"1472\"}},\"id\":\"1442\",\"type\":\"LinearAxis\"},{\"attributes\":{\"bottom_units\":\"screen\",\"coordinates\":null,\"fill_alpha\":0.5,\"fill_color\":\"lightgrey\",\"group\":null,\"left_units\":\"screen\",\"level\":\"overlay\",\"line_alpha\":1.0,\"line_color\":\"black\",\"line_dash\":[4,4],\"line_width\":2,\"right_units\":\"screen\",\"syncable\":false,\"top_units\":\"screen\"},\"id\":\"1455\",\"type\":\"BoxAnnotation\"},{\"attributes\":{},\"id\":\"1479\",\"type\":\"BasicTickFormatter\"},{\"attributes\":{},\"id\":\"1464\",\"type\":\"Selection\"},{\"attributes\":{\"coordinates\":null,\"data_source\":{\"id\":\"1463\"},\"glyph\":{\"id\":\"1466\"},\"group\":null,\"hover_glyph\":null,\"muted_glyph\":{\"id\":\"1468\"},\"nonselection_glyph\":{\"id\":\"1467\"},\"selection_glyph\":{\"id\":\"1471\"},\"view\":{\"id\":\"1470\"}},\"id\":\"1469\",\"type\":\"GlyphRenderer\"},{\"attributes\":{\"children\":[{\"id\":\"1429\"},{\"id\":\"1433\"},{\"id\":\"1499\"}],\"margin\":[0,0,0,0],\"name\":\"Row02432\",\"tags\":[\"embedded\"]},\"id\":\"1428\",\"type\":\"Row\"}],\"root_ids\":[\"1428\"]},\"title\":\"Bokeh Application\",\"version\":\"2.4.1\"}};\n",
       "    var render_items = [{\"docid\":\"8683ae1f-d406-492e-b73b-f8eb7d7d227c\",\"root_ids\":[\"1428\"],\"roots\":{\"1428\":\"ec13e061-61e4-4f03-99bf-a28a8374f50f\"}}];\n",
       "    root.Bokeh.embed.embed_items_notebook(docs_json, render_items);\n",
       "  }\n",
       "  if (root.Bokeh !== undefined && root.Bokeh.Panel !== undefined) {\n",
       "    embed_document(root);\n",
       "  } else {\n",
       "    var attempts = 0;\n",
       "    var timer = setInterval(function(root) {\n",
       "      if (root.Bokeh !== undefined && root.Bokeh.Panel !== undefined) {\n",
       "        clearInterval(timer);\n",
       "        embed_document(root);\n",
       "      } else if (document.readyState == \"complete\") {\n",
       "        attempts++;\n",
       "        if (attempts > 200) {\n",
       "          clearInterval(timer);\n",
       "          console.log(\"Bokeh: ERROR: Unable to run BokehJS code because BokehJS library is missing\");\n",
       "        }\n",
       "      }\n",
       "    }, 25, root)\n",
       "  }\n",
       "})(window);</script>"
      ],
      "text/plain": [
       ":Curve   [k]   (inertia)"
      ]
     },
     "execution_count": 18,
     "metadata": {
      "application/vnd.holoviews_exec.v0+json": {
       "id": "1428"
      }
     },
     "output_type": "execute_result"
    }
   ],
   "source": [
    "# Find the best value for K\n",
    "inertia = []\n",
    "k = list(range(1, 11))\n",
    "\n",
    "# Calculate the inertia for the range of K values\n",
    "for i in k:\n",
    "    km = KMeans(n_clusters=i, random_state=0)\n",
    "    km.fit(df_iris_pca)\n",
    "    inertia.append(km.inertia_)\n",
    "\n",
    "# Create the elbow curve\n",
    "elbow_data = {\"k\": k, \"inertia\": inertia}\n",
    "df_elbow = pd.DataFrame(elbow_data)\n",
    "df_elbow.hvplot.line(x=\"k\", y=\"inertia\", xticks=k, title=\"Elbow Curve\")\n"
   ]
  },
  {
   "cell_type": "code",
   "execution_count": 19,
   "metadata": {},
   "outputs": [
    {
     "data": {
      "text/html": [
       "<div>\n",
       "<style scoped>\n",
       "    .dataframe tbody tr th:only-of-type {\n",
       "        vertical-align: middle;\n",
       "    }\n",
       "\n",
       "    .dataframe tbody tr th {\n",
       "        vertical-align: top;\n",
       "    }\n",
       "\n",
       "    .dataframe thead th {\n",
       "        text-align: right;\n",
       "    }\n",
       "</style>\n",
       "<table border=\"1\" class=\"dataframe\">\n",
       "  <thead>\n",
       "    <tr style=\"text-align: right;\">\n",
       "      <th></th>\n",
       "      <th>principal component 1</th>\n",
       "      <th>principal component 2</th>\n",
       "      <th>class</th>\n",
       "    </tr>\n",
       "  </thead>\n",
       "  <tbody>\n",
       "    <tr>\n",
       "      <th>0</th>\n",
       "      <td>-2.264542</td>\n",
       "      <td>0.505704</td>\n",
       "      <td>0</td>\n",
       "    </tr>\n",
       "    <tr>\n",
       "      <th>1</th>\n",
       "      <td>-2.086426</td>\n",
       "      <td>-0.655405</td>\n",
       "      <td>0</td>\n",
       "    </tr>\n",
       "    <tr>\n",
       "      <th>2</th>\n",
       "      <td>-2.367950</td>\n",
       "      <td>-0.318477</td>\n",
       "      <td>0</td>\n",
       "    </tr>\n",
       "    <tr>\n",
       "      <th>3</th>\n",
       "      <td>-2.304197</td>\n",
       "      <td>-0.575368</td>\n",
       "      <td>0</td>\n",
       "    </tr>\n",
       "    <tr>\n",
       "      <th>4</th>\n",
       "      <td>-2.388777</td>\n",
       "      <td>0.674767</td>\n",
       "      <td>0</td>\n",
       "    </tr>\n",
       "  </tbody>\n",
       "</table>\n",
       "</div>"
      ],
      "text/plain": [
       "   principal component 1  principal component 2  class\n",
       "0              -2.264542               0.505704      0\n",
       "1              -2.086426              -0.655405      0\n",
       "2              -2.367950              -0.318477      0\n",
       "3              -2.304197              -0.575368      0\n",
       "4              -2.388777               0.674767      0"
      ]
     },
     "execution_count": 19,
     "metadata": {},
     "output_type": "execute_result"
    }
   ],
   "source": [
    "# Initialize the K-means model\n",
    "model = KMeans(n_clusters=3, random_state=0)\n",
    "\n",
    "# Fit the model\n",
    "model.fit(df_iris_pca)\n",
    "\n",
    "# Predict clusters\n",
    "predictions = model.predict(df_iris_pca)\n",
    "\n",
    "# Add the predicted class columns\n",
    "df_iris_pca[\"class\"] = model.labels_\n",
    "df_iris_pca.head()\n"
   ]
  },
  {
   "cell_type": "code",
   "execution_count": 20,
   "metadata": {},
   "outputs": [
    {
     "data": {},
     "metadata": {},
     "output_type": "display_data"
    },
    {
     "data": {
      "application/vnd.holoviews_exec.v0+json": "",
      "text/html": [
       "<div id='1546'>\n",
       "\n",
       "\n",
       "\n",
       "\n",
       "\n",
       "  <div class=\"bk-root\" id=\"c4052a26-3adf-4dd8-af94-5dd67200cdd1\" data-root-id=\"1546\"></div>\n",
       "</div>\n",
       "<script type=\"application/javascript\">(function(root) {\n",
       "  function embed_document(root) {\n",
       "    var docs_json = {\"321d1122-629a-4abd-a85a-736aa39ac84b\":{\"defs\":[{\"extends\":null,\"module\":null,\"name\":\"ReactiveHTML1\",\"overrides\":[],\"properties\":[]},{\"extends\":null,\"module\":null,\"name\":\"FlexBox1\",\"overrides\":[],\"properties\":[{\"default\":\"flex-start\",\"kind\":null,\"name\":\"align_content\"},{\"default\":\"flex-start\",\"kind\":null,\"name\":\"align_items\"},{\"default\":\"row\",\"kind\":null,\"name\":\"flex_direction\"},{\"default\":\"wrap\",\"kind\":null,\"name\":\"flex_wrap\"},{\"default\":\"flex-start\",\"kind\":null,\"name\":\"justify_content\"}]},{\"extends\":null,\"module\":null,\"name\":\"GridStack1\",\"overrides\":[],\"properties\":[{\"default\":\"warn\",\"kind\":null,\"name\":\"mode\"},{\"default\":null,\"kind\":null,\"name\":\"ncols\"},{\"default\":null,\"kind\":null,\"name\":\"nrows\"},{\"default\":true,\"kind\":null,\"name\":\"allow_resize\"},{\"default\":true,\"kind\":null,\"name\":\"allow_drag\"},{\"default\":[],\"kind\":null,\"name\":\"state\"}]},{\"extends\":null,\"module\":null,\"name\":\"click1\",\"overrides\":[],\"properties\":[{\"default\":\"\",\"kind\":null,\"name\":\"terminal_output\"},{\"default\":\"\",\"kind\":null,\"name\":\"debug_name\"},{\"default\":0,\"kind\":null,\"name\":\"clears\"}]},{\"extends\":null,\"module\":null,\"name\":\"TemplateActions1\",\"overrides\":[],\"properties\":[{\"default\":0,\"kind\":null,\"name\":\"open_modal\"},{\"default\":0,\"kind\":null,\"name\":\"close_modal\"}]},{\"extends\":null,\"module\":null,\"name\":\"MaterialTemplateActions1\",\"overrides\":[],\"properties\":[{\"default\":0,\"kind\":null,\"name\":\"open_modal\"},{\"default\":0,\"kind\":null,\"name\":\"close_modal\"}]}],\"roots\":{\"references\":[{\"attributes\":{\"margin\":[5,5,5,5],\"name\":\"HSpacer02667\",\"sizing_mode\":\"stretch_width\"},\"id\":\"1547\",\"type\":\"Spacer\"},{\"attributes\":{},\"id\":\"1584\",\"type\":\"BasicTickFormatter\"},{\"attributes\":{\"coordinates\":null,\"data_source\":{\"id\":\"1632\"},\"glyph\":{\"id\":\"1635\"},\"group\":null,\"hover_glyph\":null,\"muted_glyph\":{\"id\":\"1637\"},\"nonselection_glyph\":{\"id\":\"1636\"},\"selection_glyph\":{\"id\":\"1655\"},\"view\":{\"id\":\"1639\"}},\"id\":\"1638\",\"type\":\"GlyphRenderer\"},{\"attributes\":{\"data\":{\"class\":{\"__ndarray__\":\"AAAAAAAAAAAAAAAAAAAAAAAAAAAAAAAAAAAAAAAAAAAAAAAAAAAAAAAAAAAAAAAAAAAAAAAAAAAAAAAAAAAAAAAAAAAAAAAAAAAAAAAAAAAAAAAAAAAAAAAAAAAAAAAAAAAAAAAAAAAAAAAAAAAAAAAAAAAAAAAAAAAAAAAAAAAAAAAAAAAAAAAAAAAAAAAAAAAAAAAAAAAAAAAAAAAAAAAAAAAAAAAAAAAAAAAAAAAAAAAAAAAAAAAAAAAAAAAAAAAAAAAAAAA=\",\"dtype\":\"int32\",\"order\":\"little\",\"shape\":[50]},\"principal component 1\":{\"__ndarray__\":\"PRG/DcgdAsChflXa/7AAwC4tSgGQ8QLArXjV6/5uAsB/OOBfNxwDwLQJAJp1kADA7VhZG9GQA8C6vPx66N4BwLnvZ05UvALA5NUzb2iCAcDIACQK0k4BwICPWzp4ngLAbUHW4evKAcBxYBiPIx4FwONkYiHQiQHA78LFMQADAsDEicmkO58BwNTnRqd8hQHAFLKL2CBO/r9wMd43N7gCwDsu6+IFov6/KnpNIB2jAcAkHszufzEGwHOyHOBnIP2/c29EsmPTAcBqStBn+E//v+oJWiugagDA0BcE6nVYAcD16Z27WB8BwCQNM3l7JgLA3+URJwwoAcCzCNRTnk/9v3iUD3eZ3QTAyYxIYeyAA8Dk1TNvaIIBwAfB4qBfsAHAqgtPDPdaAMDk1TNvaIIBwJ7dMoLUfAPAVSP02UddAcA84QHLzkoCwGJzDEaD8v2/X/lj5HF2BMD8iQQfsG3/v/mHnMYlEQHAoe7lFFWaAMDS+qMb0QwDwJJmoB9/LwPALZosq3LQAcDejpZMy6UBwA==\",\"dtype\":\"float64\",\"order\":\"little\",\"shape\":[50]},\"principal component 2\":{\"__ndarray__\":\"ZO9787ku4D/yF8lWE/nkv2nYpqjuYdS/DiSQjGlp4r/T0afLsZflP7q+IZP5S/g/OiSoGooWsz98eXQ10LHPP84IOjG4hfG/gU6pnFa23L9pMKXTKCHxPyy/qP2XTMQ/oqo3kBix5r+HiXLvZwbuv9qryBtaPf4/k7WrfGrHBUBgjF03Ujj4Pzf+/04udeA/9Uk0V9Tl9j8npZIPTofyP3LAlsG9jNs/2/KSxId67j8/u+o4P1TfPx/WDBwFVLs/Se1BJITCxD+zYRod23Pjv2+qjuRgBtE/cYxIfx6q4T/kGaA2hIvVP11BWpX4JtS/QQayRej43r8Slx54QH/cP7lxJTRvQf0/xLJwma57AUCBTqmcVrbcvw7n16FhmMe/tOVDvSnr5T+BTqmcVrbcv3bEP1q7Ouy/eUSP1gm80j9TwmaGk/PdP31/28YcnwLApe8l3FML3b9issu+Q9XfP+zeGJkvvvI/+Iwv2S8k5r9TqsG4/WjyP9OttwhpMde/d+6vZGBo8D/67UmWeoGgPw==\",\"dtype\":\"float64\",\"order\":\"little\",\"shape\":[50]},\"principal_component_1\":{\"__ndarray__\":\"PRG/DcgdAsChflXa/7AAwC4tSgGQ8QLArXjV6/5uAsB/OOBfNxwDwLQJAJp1kADA7VhZG9GQA8C6vPx66N4BwLnvZ05UvALA5NUzb2iCAcDIACQK0k4BwICPWzp4ngLAbUHW4evKAcBxYBiPIx4FwONkYiHQiQHA78LFMQADAsDEicmkO58BwNTnRqd8hQHAFLKL2CBO/r9wMd43N7gCwDsu6+IFov6/KnpNIB2jAcAkHszufzEGwHOyHOBnIP2/c29EsmPTAcBqStBn+E//v+oJWiugagDA0BcE6nVYAcD16Z27WB8BwCQNM3l7JgLA3+URJwwoAcCzCNRTnk/9v3iUD3eZ3QTAyYxIYeyAA8Dk1TNvaIIBwAfB4qBfsAHAqgtPDPdaAMDk1TNvaIIBwJ7dMoLUfAPAVSP02UddAcA84QHLzkoCwGJzDEaD8v2/X/lj5HF2BMD8iQQfsG3/v/mHnMYlEQHAoe7lFFWaAMDS+qMb0QwDwJJmoB9/LwPALZosq3LQAcDejpZMy6UBwA==\",\"dtype\":\"float64\",\"order\":\"little\",\"shape\":[50]},\"principal_component_2\":{\"__ndarray__\":\"ZO9787ku4D/yF8lWE/nkv2nYpqjuYdS/DiSQjGlp4r/T0afLsZflP7q+IZP5S/g/OiSoGooWsz98eXQ10LHPP84IOjG4hfG/gU6pnFa23L9pMKXTKCHxPyy/qP2XTMQ/oqo3kBix5r+HiXLvZwbuv9qryBtaPf4/k7WrfGrHBUBgjF03Ujj4Pzf+/04udeA/9Uk0V9Tl9j8npZIPTofyP3LAlsG9jNs/2/KSxId67j8/u+o4P1TfPx/WDBwFVLs/Se1BJITCxD+zYRod23Pjv2+qjuRgBtE/cYxIfx6q4T/kGaA2hIvVP11BWpX4JtS/QQayRej43r8Slx54QH/cP7lxJTRvQf0/xLJwma57AUCBTqmcVrbcvw7n16FhmMe/tOVDvSnr5T+BTqmcVrbcv3bEP1q7Ouy/eUSP1gm80j9TwmaGk/PdP31/28YcnwLApe8l3FML3b9issu+Q9XfP+zeGJkvvvI/+Iwv2S8k5r9TqsG4/WjyP9OttwhpMde/d+6vZGBo8D/67UmWeoGgPw==\",\"dtype\":\"float64\",\"order\":\"little\",\"shape\":[50]}},\"selected\":{\"id\":\"1590\"},\"selection_policy\":{\"id\":\"1604\"}},\"id\":\"1589\",\"type\":\"ColumnDataSource\"},{\"attributes\":{\"fill_alpha\":{\"value\":0.1},\"fill_color\":{\"value\":\"#30a2da\"},\"hatch_alpha\":{\"value\":0.1},\"hatch_color\":{\"value\":\"#30a2da\"},\"line_alpha\":{\"value\":0.1},\"line_color\":{\"value\":\"#30a2da\"},\"size\":{\"value\":5.477225575051661},\"x\":{\"field\":\"principal component 1\"},\"y\":{\"field\":\"principal component 2\"}},\"id\":\"1593\",\"type\":\"Scatter\"},{\"attributes\":{\"data\":{\"class\":{\"__ndarray__\":\"AQAAAAEAAAABAAAAAQAAAAEAAAABAAAAAQAAAAEAAAABAAAAAQAAAAEAAAABAAAAAQAAAAEAAAABAAAAAQAAAAEAAAABAAAAAQAAAAEAAAABAAAAAQAAAAEAAAABAAAAAQAAAAEAAAABAAAAAQAAAAEAAAABAAAAAQAAAAEAAAABAAAAAQAAAAEAAAABAAAAAQAAAAEAAAABAAAAAQAAAAEAAAABAAAAAQAAAAEAAAABAAAAAQAAAAEAAAABAAAAAQAAAAEAAAABAAAAAQAAAAEAAAA=\",\"dtype\":\"int32\",\"order\":\"little\",\"shape\":[53]},\"principal component 1\":{\"__ndarray__\":\"gRWMhntt2T9KnJZFWCnxP2uBHlf2mtg/7P4dZv7c379vGywXnaPtPxfCkDZaWXQ/792FPizsv7+wz+h8JxTcP1ZNsk78puE/O0UqJwTz5j+vz63ghxOjv51u06S8RdY/5rIv7V2iwz9n6iTH4XHzPzDYZACmFsQ/Wa1SDE473j8RyjX41qXzP4sxy7fjI+Q/HNCK7kVq5j8fhVUnIzDlP9Qb1FJINai/VD98rN0cvz9ekFg5BOqMPyLf6GWaNc4/D81ZRTXo8D+ssJMoZVfMP9Cbvwf1kvA/wF4TnFcrsT93NwN1kKDRP8t9yQ7wbdE/pY3+VwPx4z+33kvRzh7VP8TEFNWD6de/2iTllsIb0j83X21EL8y2PwgkQhu5t8w/8gRG5kBd4j/cjFDrsj/dv+KA0gDGJNA/4F8IKHdz8j//oUp+m+/WP1z35HGkDPQ/HeKIxsts9z/9RPpdThD0P49itwdQKu8/9YqkmmBE9T9jfP3wHsDyP9/2a9zEx/E/KTazatUo8z+ZvvFQw4ztP+BfCCh3c/I/SdVbMZXv+D872SvtkrLuPw==\",\"dtype\":\"float64\",\"order\":\"little\",\"shape\":[53]},\"principal component 2\":{\"__ndarray__\":\"kc0hw3Uh/L99AFcJ4hrLv/IVlNb76eK/ZZSza/eU/b+UjGFUCw+fP+rLA01tePC/84KEXbZDBcDM9gYTsCWuv0fNqHx+XPy/2nstxk+8x78xLLY26rLbvxy+JkVKZsi/lInUeJ9N6b9h5T6HOSL6v75Ai9CC2fS/sgipiLWp2r9Cr8dW+Rvuv+bFU70Krdq/9DbCViNBsL9nGdg+X7fMv2cFEZBX6vC/a8J8cXkE+b9s1i92nSz5v0KekB1e1Oi/EC0SzX5h5L+Hbj2aaPnRv7mLs++KR/a/l8do/yc3y78+ZwsN7Ub1vycJ/oM76fG/x8Ud1SI0nD9o68QlE6Xvv8/C5Ku5JADApks7dJBT67+yjkY+Z2PGv1P2R1TcWdi/eDq1mhitw7+3+86JpaH4v6Z6HI5KEeO/UghbdkNx5r9Dlg29Jfb4v5QxaImirfK/uK9g7els3L9RKnQyOXv7v0vNWXwPR+K/RGwdsBUn37/H2YlbzWjUv/2TgLFv8dK/Ta/b9jwm6r/o/1pSILGTP1IIW3ZDcea/wFrVOlT47L/vCiw2mtGWvw==\",\"dtype\":\"float64\",\"order\":\"little\",\"shape\":[53]},\"principal_component_1\":{\"__ndarray__\":\"gRWMhntt2T9KnJZFWCnxP2uBHlf2mtg/7P4dZv7c379vGywXnaPtPxfCkDZaWXQ/792FPizsv7+wz+h8JxTcP1ZNsk78puE/O0UqJwTz5j+vz63ghxOjv51u06S8RdY/5rIv7V2iwz9n6iTH4XHzPzDYZACmFsQ/Wa1SDE473j8RyjX41qXzP4sxy7fjI+Q/HNCK7kVq5j8fhVUnIzDlP9Qb1FJINai/VD98rN0cvz9ekFg5BOqMPyLf6GWaNc4/D81ZRTXo8D+ssJMoZVfMP9Cbvwf1kvA/wF4TnFcrsT93NwN1kKDRP8t9yQ7wbdE/pY3+VwPx4z+33kvRzh7VP8TEFNWD6de/2iTllsIb0j83X21EL8y2PwgkQhu5t8w/8gRG5kBd4j/cjFDrsj/dv+KA0gDGJNA/4F8IKHdz8j//oUp+m+/WP1z35HGkDPQ/HeKIxsts9z/9RPpdThD0P49itwdQKu8/9YqkmmBE9T9jfP3wHsDyP9/2a9zEx/E/KTazatUo8z+ZvvFQw4ztP+BfCCh3c/I/SdVbMZXv+D872SvtkrLuPw==\",\"dtype\":\"float64\",\"order\":\"little\",\"shape\":[53]},\"principal_component_2\":{\"__ndarray__\":\"kc0hw3Uh/L99AFcJ4hrLv/IVlNb76eK/ZZSza/eU/b+UjGFUCw+fP+rLA01tePC/84KEXbZDBcDM9gYTsCWuv0fNqHx+XPy/2nstxk+8x78xLLY26rLbvxy+JkVKZsi/lInUeJ9N6b9h5T6HOSL6v75Ai9CC2fS/sgipiLWp2r9Cr8dW+Rvuv+bFU70Krdq/9DbCViNBsL9nGdg+X7fMv2cFEZBX6vC/a8J8cXkE+b9s1i92nSz5v0KekB1e1Oi/EC0SzX5h5L+Hbj2aaPnRv7mLs++KR/a/l8do/yc3y78+ZwsN7Ub1vycJ/oM76fG/x8Ud1SI0nD9o68QlE6Xvv8/C5Ku5JADApks7dJBT67+yjkY+Z2PGv1P2R1TcWdi/eDq1mhitw7+3+86JpaH4v6Z6HI5KEeO/UghbdkNx5r9Dlg29Jfb4v5QxaImirfK/uK9g7els3L9RKnQyOXv7v0vNWXwPR+K/RGwdsBUn37/H2YlbzWjUv/2TgLFv8dK/Ta/b9jwm6r/o/1pSILGTP1IIW3ZDcea/wFrVOlT47L/vCiw2mtGWvw==\",\"dtype\":\"float64\",\"order\":\"little\",\"shape\":[53]}},\"selected\":{\"id\":\"1611\"},\"selection_policy\":{\"id\":\"1627\"}},\"id\":\"1610\",\"type\":\"ColumnDataSource\"},{\"attributes\":{\"fill_color\":{\"value\":\"#30a2da\"},\"hatch_color\":{\"value\":\"#30a2da\"},\"line_color\":{\"value\":\"#30a2da\"},\"size\":{\"value\":5.477225575051661},\"x\":{\"field\":\"principal component 1\"},\"y\":{\"field\":\"principal component 2\"}},\"id\":\"1592\",\"type\":\"Scatter\"},{\"attributes\":{\"fill_color\":{\"value\":\"#fc4f30\"},\"hatch_color\":{\"value\":\"#fc4f30\"},\"line_color\":{\"value\":\"#fc4f30\"},\"size\":{\"value\":5.477225575051661},\"x\":{\"field\":\"principal component 1\"},\"y\":{\"field\":\"principal component 2\"}},\"id\":\"1613\",\"type\":\"Scatter\"},{\"attributes\":{},\"id\":\"1563\",\"type\":\"BasicTicker\"},{\"attributes\":{},\"id\":\"1558\",\"type\":\"LinearScale\"},{\"attributes\":{\"coordinates\":null,\"data_source\":{\"id\":\"1589\"},\"glyph\":{\"id\":\"1592\"},\"group\":null,\"hover_glyph\":null,\"muted_glyph\":{\"id\":\"1594\"},\"nonselection_glyph\":{\"id\":\"1593\"},\"selection_glyph\":{\"id\":\"1609\"},\"view\":{\"id\":\"1596\"}},\"id\":\"1595\",\"type\":\"GlyphRenderer\"},{\"attributes\":{\"below\":[{\"id\":\"1562\"}],\"center\":[{\"id\":\"1565\"},{\"id\":\"1569\"}],\"height\":300,\"left\":[{\"id\":\"1566\"}],\"margin\":[5,5,5,5],\"min_border_bottom\":10,\"min_border_left\":10,\"min_border_right\":10,\"min_border_top\":10,\"renderers\":[{\"id\":\"1595\"},{\"id\":\"1616\"},{\"id\":\"1638\"}],\"right\":[{\"id\":\"1607\"}],\"sizing_mode\":\"fixed\",\"title\":{\"id\":\"1554\"},\"toolbar\":{\"id\":\"1576\"},\"width\":700,\"x_range\":{\"id\":\"1548\"},\"x_scale\":{\"id\":\"1558\"},\"y_range\":{\"id\":\"1549\"},\"y_scale\":{\"id\":\"1560\"}},\"id\":\"1553\",\"subtype\":\"Figure\",\"type\":\"Plot\"},{\"attributes\":{\"fill_alpha\":{\"value\":0.1},\"fill_color\":{\"value\":\"#fc4f30\"},\"hatch_alpha\":{\"value\":0.1},\"hatch_color\":{\"value\":\"#fc4f30\"},\"line_alpha\":{\"value\":0.1},\"line_color\":{\"value\":\"#fc4f30\"},\"size\":{\"value\":5.477225575051661},\"x\":{\"field\":\"principal component 1\"},\"y\":{\"field\":\"principal component 2\"}},\"id\":\"1614\",\"type\":\"Scatter\"},{\"attributes\":{},\"id\":\"1570\",\"type\":\"SaveTool\"},{\"attributes\":{},\"id\":\"1571\",\"type\":\"PanTool\"},{\"attributes\":{},\"id\":\"1574\",\"type\":\"ResetTool\"},{\"attributes\":{\"click_policy\":\"mute\",\"coordinates\":null,\"group\":null,\"items\":[{\"id\":\"1608\"},{\"id\":\"1630\"},{\"id\":\"1654\"}],\"location\":[0,0],\"title\":\"class\"},\"id\":\"1607\",\"type\":\"Legend\"},{\"attributes\":{\"source\":{\"id\":\"1632\"}},\"id\":\"1639\",\"type\":\"CDSView\"},{\"attributes\":{},\"id\":\"1572\",\"type\":\"WheelZoomTool\"},{\"attributes\":{},\"id\":\"1567\",\"type\":\"BasicTicker\"},{\"attributes\":{\"source\":{\"id\":\"1589\"}},\"id\":\"1596\",\"type\":\"CDSView\"},{\"attributes\":{\"source\":{\"id\":\"1610\"}},\"id\":\"1617\",\"type\":\"CDSView\"},{\"attributes\":{},\"id\":\"1633\",\"type\":\"Selection\"},{\"attributes\":{\"overlay\":{\"id\":\"1575\"}},\"id\":\"1573\",\"type\":\"BoxZoomTool\"},{\"attributes\":{\"angle\":{\"value\":0.0},\"fill_alpha\":{\"value\":1.0},\"fill_color\":{\"value\":\"#e5ae38\"},\"hatch_alpha\":{\"value\":1.0},\"hatch_color\":{\"value\":\"#e5ae38\"},\"hatch_scale\":{\"value\":12.0},\"hatch_weight\":{\"value\":1.0},\"line_alpha\":{\"value\":1.0},\"line_cap\":{\"value\":\"butt\"},\"line_color\":{\"value\":\"#e5ae38\"},\"line_dash\":{\"value\":[]},\"line_dash_offset\":{\"value\":0},\"line_join\":{\"value\":\"bevel\"},\"line_width\":{\"value\":1},\"marker\":{\"value\":\"circle\"},\"size\":{\"value\":5.477225575051661},\"x\":{\"field\":\"principal component 1\"},\"y\":{\"field\":\"principal component 2\"}},\"id\":\"1655\",\"type\":\"Scatter\"},{\"attributes\":{},\"id\":\"1585\",\"type\":\"AllLabels\"},{\"attributes\":{\"coordinates\":null,\"group\":null,\"text_color\":\"black\",\"text_font_size\":\"12pt\"},\"id\":\"1554\",\"type\":\"Title\"},{\"attributes\":{\"axis\":{\"id\":\"1562\"},\"coordinates\":null,\"grid_line_color\":null,\"group\":null,\"ticker\":null},\"id\":\"1565\",\"type\":\"Grid\"},{\"attributes\":{\"fill_alpha\":{\"value\":0.2},\"fill_color\":{\"value\":\"#30a2da\"},\"hatch_alpha\":{\"value\":0.2},\"hatch_color\":{\"value\":\"#30a2da\"},\"line_alpha\":{\"value\":0.2},\"line_color\":{\"value\":\"#30a2da\"},\"size\":{\"value\":5.477225575051661},\"x\":{\"field\":\"principal component 1\"},\"y\":{\"field\":\"principal component 2\"}},\"id\":\"1594\",\"type\":\"Scatter\"},{\"attributes\":{\"tools\":[{\"id\":\"1550\"},{\"id\":\"1570\"},{\"id\":\"1571\"},{\"id\":\"1572\"},{\"id\":\"1573\"},{\"id\":\"1574\"}]},\"id\":\"1576\",\"type\":\"Toolbar\"},{\"attributes\":{\"angle\":{\"value\":0.0},\"fill_alpha\":{\"value\":1.0},\"fill_color\":{\"value\":\"#fc4f30\"},\"hatch_alpha\":{\"value\":1.0},\"hatch_color\":{\"value\":\"#fc4f30\"},\"hatch_scale\":{\"value\":12.0},\"hatch_weight\":{\"value\":1.0},\"line_alpha\":{\"value\":1.0},\"line_cap\":{\"value\":\"butt\"},\"line_color\":{\"value\":\"#fc4f30\"},\"line_dash\":{\"value\":[]},\"line_dash_offset\":{\"value\":0},\"line_join\":{\"value\":\"bevel\"},\"line_width\":{\"value\":1},\"marker\":{\"value\":\"circle\"},\"size\":{\"value\":5.477225575051661},\"x\":{\"field\":\"principal component 1\"},\"y\":{\"field\":\"principal component 2\"}},\"id\":\"1631\",\"type\":\"Scatter\"},{\"attributes\":{\"label\":{\"value\":\"1\"},\"renderers\":[{\"id\":\"1616\"}]},\"id\":\"1630\",\"type\":\"LegendItem\"},{\"attributes\":{\"angle\":{\"value\":0.0},\"fill_alpha\":{\"value\":1.0},\"fill_color\":{\"value\":\"#30a2da\"},\"hatch_alpha\":{\"value\":1.0},\"hatch_color\":{\"value\":\"#30a2da\"},\"hatch_scale\":{\"value\":12.0},\"hatch_weight\":{\"value\":1.0},\"line_alpha\":{\"value\":1.0},\"line_cap\":{\"value\":\"butt\"},\"line_color\":{\"value\":\"#30a2da\"},\"line_dash\":{\"value\":[]},\"line_dash_offset\":{\"value\":0},\"line_join\":{\"value\":\"bevel\"},\"line_width\":{\"value\":1},\"marker\":{\"value\":\"circle\"},\"size\":{\"value\":5.477225575051661},\"x\":{\"field\":\"principal component 1\"},\"y\":{\"field\":\"principal component 2\"}},\"id\":\"1609\",\"type\":\"Scatter\"},{\"attributes\":{},\"id\":\"1560\",\"type\":\"LinearScale\"},{\"attributes\":{\"fill_color\":{\"value\":\"#e5ae38\"},\"hatch_color\":{\"value\":\"#e5ae38\"},\"line_color\":{\"value\":\"#e5ae38\"},\"size\":{\"value\":5.477225575051661},\"x\":{\"field\":\"principal component 1\"},\"y\":{\"field\":\"principal component 2\"}},\"id\":\"1635\",\"type\":\"Scatter\"},{\"attributes\":{},\"id\":\"1604\",\"type\":\"UnionRenderers\"},{\"attributes\":{},\"id\":\"1590\",\"type\":\"Selection\"},{\"attributes\":{\"bottom_units\":\"screen\",\"coordinates\":null,\"fill_alpha\":0.5,\"fill_color\":\"lightgrey\",\"group\":null,\"left_units\":\"screen\",\"level\":\"overlay\",\"line_alpha\":1.0,\"line_color\":\"black\",\"line_dash\":[4,4],\"line_width\":2,\"right_units\":\"screen\",\"syncable\":false,\"top_units\":\"screen\"},\"id\":\"1575\",\"type\":\"BoxAnnotation\"},{\"attributes\":{\"axis_label\":\"principal component 2\",\"coordinates\":null,\"formatter\":{\"id\":\"1587\"},\"group\":null,\"major_label_policy\":{\"id\":\"1588\"},\"ticker\":{\"id\":\"1567\"}},\"id\":\"1566\",\"type\":\"LinearAxis\"},{\"attributes\":{\"fill_alpha\":{\"value\":0.2},\"fill_color\":{\"value\":\"#e5ae38\"},\"hatch_alpha\":{\"value\":0.2},\"hatch_color\":{\"value\":\"#e5ae38\"},\"line_alpha\":{\"value\":0.2},\"line_color\":{\"value\":\"#e5ae38\"},\"size\":{\"value\":5.477225575051661},\"x\":{\"field\":\"principal component 1\"},\"y\":{\"field\":\"principal component 2\"}},\"id\":\"1637\",\"type\":\"Scatter\"},{\"attributes\":{\"axis_label\":\"principal component 1\",\"coordinates\":null,\"formatter\":{\"id\":\"1584\"},\"group\":null,\"major_label_policy\":{\"id\":\"1585\"},\"ticker\":{\"id\":\"1563\"}},\"id\":\"1562\",\"type\":\"LinearAxis\"},{\"attributes\":{\"end\":3.5698545102352757,\"reset_end\":3.5698545102352757,\"reset_start\":-3.034883121264353,\"start\":-3.034883121264353,\"tags\":[[[\"principal component 1\",\"principal component 1\",null]]]},\"id\":\"1548\",\"type\":\"Range1d\"},{\"attributes\":{\"label\":{\"value\":\"0\"},\"renderers\":[{\"id\":\"1595\"}]},\"id\":\"1608\",\"type\":\"LegendItem\"},{\"attributes\":{\"label\":{\"value\":\"2\"},\"renderers\":[{\"id\":\"1638\"}]},\"id\":\"1654\",\"type\":\"LegendItem\"},{\"attributes\":{\"end\":3.2604144520280927,\"reset_end\":3.2604144520280927,\"reset_start\":-3.196106053415383,\"start\":-3.196106053415383,\"tags\":[[[\"principal component 2\",\"principal component 2\",null]]]},\"id\":\"1549\",\"type\":\"Range1d\"},{\"attributes\":{\"callback\":null,\"renderers\":[{\"id\":\"1595\"},{\"id\":\"1616\"},{\"id\":\"1638\"}],\"tags\":[\"hv_created\"],\"tooltips\":[[\"class\",\"@{class}\"],[\"principal component 1\",\"@{principal_component_1}\"],[\"principal component 2\",\"@{principal_component_2}\"]]},\"id\":\"1550\",\"type\":\"HoverTool\"},{\"attributes\":{\"fill_alpha\":{\"value\":0.2},\"fill_color\":{\"value\":\"#fc4f30\"},\"hatch_alpha\":{\"value\":0.2},\"hatch_color\":{\"value\":\"#fc4f30\"},\"line_alpha\":{\"value\":0.2},\"line_color\":{\"value\":\"#fc4f30\"},\"size\":{\"value\":5.477225575051661},\"x\":{\"field\":\"principal component 1\"},\"y\":{\"field\":\"principal component 2\"}},\"id\":\"1615\",\"type\":\"Scatter\"},{\"attributes\":{},\"id\":\"1611\",\"type\":\"Selection\"},{\"attributes\":{\"axis\":{\"id\":\"1566\"},\"coordinates\":null,\"dimension\":1,\"grid_line_color\":null,\"group\":null,\"ticker\":null},\"id\":\"1569\",\"type\":\"Grid\"},{\"attributes\":{\"children\":[{\"id\":\"1547\"},{\"id\":\"1553\"},{\"id\":\"1782\"}],\"margin\":[0,0,0,0],\"name\":\"Row02663\",\"tags\":[\"embedded\"]},\"id\":\"1546\",\"type\":\"Row\"},{\"attributes\":{\"data\":{\"class\":{\"__ndarray__\":\"AgAAAAIAAAACAAAAAgAAAAIAAAACAAAAAgAAAAIAAAACAAAAAgAAAAIAAAACAAAAAgAAAAIAAAACAAAAAgAAAAIAAAACAAAAAgAAAAIAAAACAAAAAgAAAAIAAAACAAAAAgAAAAIAAAACAAAAAgAAAAIAAAACAAAAAgAAAAIAAAACAAAAAgAAAAIAAAACAAAAAgAAAAIAAAACAAAAAgAAAAIAAAACAAAAAgAAAAIAAAACAAAAAgAAAAIAAAA=\",\"dtype\":\"int32\",\"order\":\"little\",\"shape\":[47]},\"principal component 1\":{\"__ndarray__\":\"cZicP/Wp8T/qdLjqfHDnP0hUdjeu3/M/kH2nUXn15z99t9eWSwfsPwbqCkTLn+c/ZokX1wP06z/rYaNJSxH0PxZwyrRZu/U/YiqW1lWi2z+kboqoZcrwP2RoZCMRkP0/XaOtkJqmAUCwkwP82gT3P8Sof1zh4v0/c0K5SJgIBkDlZzhbjmwCQPUm68uNAwBAIU9oqvMjAkBti3vYw9r1P60QOb/Elfk/O66UReUl/j8Y0QQIDXj5P3odkBhdivc/QfYnSsB/A0AyhisDH3kKQJbn9rPvUgBAOC4taDwvB0BCqLnnkUT7P6gJnj3aUv8/H9Lu7wVR8D+g2hYHfpP8P38bVl0h1v0/ifhsDuZ7A0AxtjE3VocCQGstB9QUxP0/jk42KVhoBkCz+a/eUEj5P/DOTXR+jfU/PAUQICao/T8PDMQGFyEAQLlqwqkqc/4/Og5TGLJYAEC5eb2NdgMAQPHgNY2o7f0/+IJComFV+D8O9OTEsgX2Pw==\",\"dtype\":\"float64\",\"order\":\"little\",\"shape\":[47]},\"principal component 2\":{\"__ndarray__\":\"3Hb2/Z2e6z8bPDfKBSjjP9vNPSGgrOM/sl+rWRnr6D9mOXqk51HgP4dBqiETwtk/ZJ7yIJwL0D/oh7BClya1v0QteShkC9U/Cgg+Gkhd6z/Ck6QJ17XgP3ssy2Xw5Os/CcTpFji+4T+8lDOr+pqpv+lEGSLnotI/ogetLdY66T9UO0mDhTXaP7CQnq/nKee/vo2XATu+/j8yoQKF0jTmP2t9L85taNu/bKdDi22E2j8tfGgVRqrlPzE3rDJONNA/fzlsMT10BEBeiaQTDFhjvz90hSJpCe0/cJKR42l12T+QWt+y8znwP56AK36oDfA/Vqj7cmzHsD/wvEvBKb3Iv5PkXX2vxeE/217ipF+Szz8l4TWwbAIFQJuBO1NYo8e/Sys1XS0I6z+ij2oE2yjxPxj8A+M9Bts/vKTAq3yE5T/Y+zteX4jjP952Ilnq8+U/tyJfoH+r6z86eOdp3MbwP/hDMiongNg/eNtvjSkT0T8bLdG5BEPwPw==\",\"dtype\":\"float64\",\"order\":\"little\",\"shape\":[47]},\"principal_component_1\":{\"__ndarray__\":\"cZicP/Wp8T/qdLjqfHDnP0hUdjeu3/M/kH2nUXn15z99t9eWSwfsPwbqCkTLn+c/ZokX1wP06z/rYaNJSxH0PxZwyrRZu/U/YiqW1lWi2z+kboqoZcrwP2RoZCMRkP0/XaOtkJqmAUCwkwP82gT3P8Sof1zh4v0/c0K5SJgIBkDlZzhbjmwCQPUm68uNAwBAIU9oqvMjAkBti3vYw9r1P60QOb/Elfk/O66UReUl/j8Y0QQIDXj5P3odkBhdivc/QfYnSsB/A0AyhisDH3kKQJbn9rPvUgBAOC4taDwvB0BCqLnnkUT7P6gJnj3aUv8/H9Lu7wVR8D+g2hYHfpP8P38bVl0h1v0/ifhsDuZ7A0AxtjE3VocCQGstB9QUxP0/jk42KVhoBkCz+a/eUEj5P/DOTXR+jfU/PAUQICao/T8PDMQGFyEAQLlqwqkqc/4/Og5TGLJYAEC5eb2NdgMAQPHgNY2o7f0/+IJComFV+D8O9OTEsgX2Pw==\",\"dtype\":\"float64\",\"order\":\"little\",\"shape\":[47]},\"principal_component_2\":{\"__ndarray__\":\"3Hb2/Z2e6z8bPDfKBSjjP9vNPSGgrOM/sl+rWRnr6D9mOXqk51HgP4dBqiETwtk/ZJ7yIJwL0D/oh7BClya1v0QteShkC9U/Cgg+Gkhd6z/Ck6QJ17XgP3ssy2Xw5Os/CcTpFji+4T+8lDOr+pqpv+lEGSLnotI/ogetLdY66T9UO0mDhTXaP7CQnq/nKee/vo2XATu+/j8yoQKF0jTmP2t9L85taNu/bKdDi22E2j8tfGgVRqrlPzE3rDJONNA/fzlsMT10BEBeiaQTDFhjvz90hSJpCe0/cJKR42l12T+QWt+y8znwP56AK36oDfA/Vqj7cmzHsD/wvEvBKb3Iv5PkXX2vxeE/217ipF+Szz8l4TWwbAIFQJuBO1NYo8e/Sys1XS0I6z+ij2oE2yjxPxj8A+M9Bts/vKTAq3yE5T/Y+zteX4jjP952Ilnq8+U/tyJfoH+r6z86eOdp3MbwP/hDMiongNg/eNtvjSkT0T8bLdG5BEPwPw==\",\"dtype\":\"float64\",\"order\":\"little\",\"shape\":[47]}},\"selected\":{\"id\":\"1633\"},\"selection_policy\":{\"id\":\"1651\"}},\"id\":\"1632\",\"type\":\"ColumnDataSource\"},{\"attributes\":{},\"id\":\"1588\",\"type\":\"AllLabels\"},{\"attributes\":{\"coordinates\":null,\"data_source\":{\"id\":\"1610\"},\"glyph\":{\"id\":\"1613\"},\"group\":null,\"hover_glyph\":null,\"muted_glyph\":{\"id\":\"1615\"},\"nonselection_glyph\":{\"id\":\"1614\"},\"selection_glyph\":{\"id\":\"1631\"},\"view\":{\"id\":\"1617\"}},\"id\":\"1616\",\"type\":\"GlyphRenderer\"},{\"attributes\":{\"fill_alpha\":{\"value\":0.1},\"fill_color\":{\"value\":\"#e5ae38\"},\"hatch_alpha\":{\"value\":0.1},\"hatch_color\":{\"value\":\"#e5ae38\"},\"line_alpha\":{\"value\":0.1},\"line_color\":{\"value\":\"#e5ae38\"},\"size\":{\"value\":5.477225575051661},\"x\":{\"field\":\"principal component 1\"},\"y\":{\"field\":\"principal component 2\"}},\"id\":\"1636\",\"type\":\"Scatter\"},{\"attributes\":{},\"id\":\"1627\",\"type\":\"UnionRenderers\"},{\"attributes\":{},\"id\":\"1651\",\"type\":\"UnionRenderers\"},{\"attributes\":{\"margin\":[5,5,5,5],\"name\":\"HSpacer02668\",\"sizing_mode\":\"stretch_width\"},\"id\":\"1782\",\"type\":\"Spacer\"},{\"attributes\":{},\"id\":\"1587\",\"type\":\"BasicTickFormatter\"}],\"root_ids\":[\"1546\"]},\"title\":\"Bokeh Application\",\"version\":\"2.4.1\"}};\n",
       "    var render_items = [{\"docid\":\"321d1122-629a-4abd-a85a-736aa39ac84b\",\"root_ids\":[\"1546\"],\"roots\":{\"1546\":\"c4052a26-3adf-4dd8-af94-5dd67200cdd1\"}}];\n",
       "    root.Bokeh.embed.embed_items_notebook(docs_json, render_items);\n",
       "  }\n",
       "  if (root.Bokeh !== undefined && root.Bokeh.Panel !== undefined) {\n",
       "    embed_document(root);\n",
       "  } else {\n",
       "    var attempts = 0;\n",
       "    var timer = setInterval(function(root) {\n",
       "      if (root.Bokeh !== undefined && root.Bokeh.Panel !== undefined) {\n",
       "        clearInterval(timer);\n",
       "        embed_document(root);\n",
       "      } else if (document.readyState == \"complete\") {\n",
       "        attempts++;\n",
       "        if (attempts > 200) {\n",
       "          clearInterval(timer);\n",
       "          console.log(\"Bokeh: ERROR: Unable to run BokehJS code because BokehJS library is missing\");\n",
       "        }\n",
       "      }\n",
       "    }, 25, root)\n",
       "  }\n",
       "})(window);</script>"
      ],
      "text/plain": [
       ":NdOverlay   [class]\n",
       "   :Scatter   [principal component 1]   (principal component 2,class)"
      ]
     },
     "execution_count": 20,
     "metadata": {
      "application/vnd.holoviews_exec.v0+json": {
       "id": "1546"
      }
     },
     "output_type": "execute_result"
    }
   ],
   "source": [
    "df_iris_pca.hvplot.scatter(\n",
    "    x=\"principal component 1\",\n",
    "    y=\"principal component 2\",\n",
    "    hover_cols=[\"class\"],\n",
    "    by=\"class\",\n",
    ")\n"
   ]
  },
  {
   "cell_type": "markdown",
   "metadata": {},
   "source": [
    "###  hierarchical clustering"
   ]
  },
  {
   "cell_type": "code",
   "execution_count": 22,
   "metadata": {},
   "outputs": [],
   "source": [
    "import pandas as pd\n",
    "from sklearn.preprocessing import StandardScaler\n",
    "from sklearn.decomposition import PCA\n",
    "from sklearn.cluster import AgglomerativeClustering\n",
    "import hvplot.pandas\n"
   ]
  },
  {
   "cell_type": "code",
   "execution_count": 23,
   "metadata": {},
   "outputs": [],
   "source": [
    "import plotly.figure_factory as ff\n"
   ]
  },
  {
   "cell_type": "code",
   "execution_count": 24,
   "metadata": {},
   "outputs": [
    {
     "data": {
      "application/vnd.plotly.v1+json": {
       "config": {
        "plotlyServerURL": "https://plot.ly"
       },
       "data": [
        {
         "hoverinfo": "text",
         "marker": {
          "color": "rgb(0,116,217)"
         },
         "mode": "lines",
         "type": "scatter",
         "x": [
          25,
          25,
          35,
          35
         ],
         "xaxis": "x",
         "y": [
          0,
          0.07485825263999042,
          0.07485825263999042,
          0
         ],
         "yaxis": "y"
        },
        {
         "hoverinfo": "text",
         "marker": {
          "color": "rgb(0,116,217)"
         },
         "mode": "lines",
         "type": "scatter",
         "x": [
          15,
          15,
          30,
          30
         ],
         "xaxis": "x",
         "y": [
          0,
          0.35722646540345626,
          0.35722646540345626,
          0.07485825263999042
         ],
         "yaxis": "y"
        },
        {
         "hoverinfo": "text",
         "marker": {
          "color": "rgb(0,116,217)"
         },
         "mode": "lines",
         "type": "scatter",
         "x": [
          5,
          5,
          22.5,
          22.5
         ],
         "xaxis": "x",
         "y": [
          0,
          0.5727707745592823,
          0.5727707745592823,
          0.35722646540345626
         ],
         "yaxis": "y"
        },
        {
         "hoverinfo": "text",
         "marker": {
          "color": "rgb(0,116,217)"
         },
         "mode": "lines",
         "type": "scatter",
         "x": [
          65,
          65,
          75,
          75
         ],
         "xaxis": "x",
         "y": [
          0,
          0.17422385269037663,
          0.17422385269037663,
          0
         ],
         "yaxis": "y"
        },
        {
         "hoverinfo": "text",
         "marker": {
          "color": "rgb(0,116,217)"
         },
         "mode": "lines",
         "type": "scatter",
         "x": [
          55,
          55,
          70,
          70
         ],
         "xaxis": "x",
         "y": [
          0,
          0.38374369539585396,
          0.38374369539585396,
          0.17422385269037663
         ],
         "yaxis": "y"
        },
        {
         "hoverinfo": "text",
         "marker": {
          "color": "rgb(0,116,217)"
         },
         "mode": "lines",
         "type": "scatter",
         "x": [
          95,
          95,
          105,
          105
         ],
         "xaxis": "x",
         "y": [
          0,
          0.07319361257252459,
          0.07319361257252459,
          0
         ],
         "yaxis": "y"
        },
        {
         "hoverinfo": "text",
         "marker": {
          "color": "rgb(0,116,217)"
         },
         "mode": "lines",
         "type": "scatter",
         "x": [
          85,
          85,
          100,
          100
         ],
         "xaxis": "x",
         "y": [
          0,
          0.45738576876521625,
          0.45738576876521625,
          0.07319361257252459
         ],
         "yaxis": "y"
        },
        {
         "hoverinfo": "text",
         "marker": {
          "color": "rgb(0,116,217)"
         },
         "mode": "lines",
         "type": "scatter",
         "x": [
          62.5,
          62.5,
          92.5,
          92.5
         ],
         "xaxis": "x",
         "y": [
          0.38374369539585396,
          0.7092374678608775,
          0.7092374678608775,
          0.45738576876521625
         ],
         "yaxis": "y"
        },
        {
         "hoverinfo": "text",
         "marker": {
          "color": "rgb(0,116,217)"
         },
         "mode": "lines",
         "type": "scatter",
         "x": [
          45,
          45,
          77.5,
          77.5
         ],
         "xaxis": "x",
         "y": [
          0,
          1.2353990195988576,
          1.2353990195988576,
          0.7092374678608775
         ],
         "yaxis": "y"
        },
        {
         "hoverinfo": "text",
         "marker": {
          "color": "rgb(0,116,217)"
         },
         "mode": "lines",
         "type": "scatter",
         "x": [
          13.75,
          13.75,
          61.25,
          61.25
         ],
         "xaxis": "x",
         "y": [
          0.5727707745592823,
          1.762311591008444,
          1.762311591008444,
          1.2353990195988576
         ],
         "yaxis": "y"
        },
        {
         "hoverinfo": "text",
         "marker": {
          "color": "rgb(0,116,217)"
         },
         "mode": "lines",
         "type": "scatter",
         "x": [
          125,
          125,
          135,
          135
         ],
         "xaxis": "x",
         "y": [
          0,
          0.13975972015707636,
          0.13975972015707636,
          0
         ],
         "yaxis": "y"
        },
        {
         "hoverinfo": "text",
         "marker": {
          "color": "rgb(0,116,217)"
         },
         "mode": "lines",
         "type": "scatter",
         "x": [
          115,
          115,
          130,
          130
         ],
         "xaxis": "x",
         "y": [
          0,
          0.7064096921199925,
          0.7064096921199925,
          0.13975972015707636
         ],
         "yaxis": "y"
        },
        {
         "hoverinfo": "text",
         "marker": {
          "color": "rgb(0,116,217)"
         },
         "mode": "lines",
         "type": "scatter",
         "x": [
          155,
          155,
          165,
          165
         ],
         "xaxis": "x",
         "y": [
          0,
          0.14692610447676596,
          0.14692610447676596,
          0
         ],
         "yaxis": "y"
        },
        {
         "hoverinfo": "text",
         "marker": {
          "color": "rgb(0,116,217)"
         },
         "mode": "lines",
         "type": "scatter",
         "x": [
          145,
          145,
          160,
          160
         ],
         "xaxis": "x",
         "y": [
          0,
          0.3117955583379426,
          0.3117955583379426,
          0.14692610447676596
         ],
         "yaxis": "y"
        },
        {
         "hoverinfo": "text",
         "marker": {
          "color": "rgb(0,116,217)"
         },
         "mode": "lines",
         "type": "scatter",
         "x": [
          195,
          195,
          205,
          205
         ],
         "xaxis": "x",
         "y": [
          0,
          0.13710992661168858,
          0.13710992661168858,
          0
         ],
         "yaxis": "y"
        },
        {
         "hoverinfo": "text",
         "marker": {
          "color": "rgb(0,116,217)"
         },
         "mode": "lines",
         "type": "scatter",
         "x": [
          185,
          185,
          200,
          200
         ],
         "xaxis": "x",
         "y": [
          0,
          0.32785699012283226,
          0.32785699012283226,
          0.13710992661168858
         ],
         "yaxis": "y"
        },
        {
         "hoverinfo": "text",
         "marker": {
          "color": "rgb(0,116,217)"
         },
         "mode": "lines",
         "type": "scatter",
         "x": [
          175,
          175,
          192.5,
          192.5
         ],
         "xaxis": "x",
         "y": [
          0,
          0.4019296896133168,
          0.4019296896133168,
          0.32785699012283226
         ],
         "yaxis": "y"
        },
        {
         "hoverinfo": "text",
         "marker": {
          "color": "rgb(0,116,217)"
         },
         "mode": "lines",
         "type": "scatter",
         "x": [
          152.5,
          152.5,
          183.75,
          183.75
         ],
         "xaxis": "x",
         "y": [
          0.3117955583379426,
          0.6189575064916506,
          0.6189575064916506,
          0.4019296896133168
         ],
         "yaxis": "y"
        },
        {
         "hoverinfo": "text",
         "marker": {
          "color": "rgb(0,116,217)"
         },
         "mode": "lines",
         "type": "scatter",
         "x": [
          225,
          225,
          235,
          235
         ],
         "xaxis": "x",
         "y": [
          0,
          0.042806358020715175,
          0.042806358020715175,
          0
         ],
         "yaxis": "y"
        },
        {
         "hoverinfo": "text",
         "marker": {
          "color": "rgb(0,116,217)"
         },
         "mode": "lines",
         "type": "scatter",
         "x": [
          245,
          245,
          255,
          255
         ],
         "xaxis": "x",
         "y": [
          0,
          0.0630651762868631,
          0.0630651762868631,
          0
         ],
         "yaxis": "y"
        },
        {
         "hoverinfo": "text",
         "marker": {
          "color": "rgb(0,116,217)"
         },
         "mode": "lines",
         "type": "scatter",
         "x": [
          230,
          230,
          250,
          250
         ],
         "xaxis": "x",
         "y": [
          0.042806358020715175,
          0.18851634764369535,
          0.18851634764369535,
          0.0630651762868631
         ],
         "yaxis": "y"
        },
        {
         "hoverinfo": "text",
         "marker": {
          "color": "rgb(0,116,217)"
         },
         "mode": "lines",
         "type": "scatter",
         "x": [
          215,
          215,
          240,
          240
         ],
         "xaxis": "x",
         "y": [
          0,
          0.23451818445284786,
          0.23451818445284786,
          0.18851634764369535
         ],
         "yaxis": "y"
        },
        {
         "hoverinfo": "text",
         "marker": {
          "color": "rgb(0,116,217)"
         },
         "mode": "lines",
         "type": "scatter",
         "x": [
          275,
          275,
          285,
          285
         ],
         "xaxis": "x",
         "y": [
          0,
          0.03437215474252751,
          0.03437215474252751,
          0
         ],
         "yaxis": "y"
        },
        {
         "hoverinfo": "text",
         "marker": {
          "color": "rgb(0,116,217)"
         },
         "mode": "lines",
         "type": "scatter",
         "x": [
          265,
          265,
          280,
          280
         ],
         "xaxis": "x",
         "y": [
          0,
          0.12422212395013336,
          0.12422212395013336,
          0.03437215474252751
         ],
         "yaxis": "y"
        },
        {
         "hoverinfo": "text",
         "marker": {
          "color": "rgb(0,116,217)"
         },
         "mode": "lines",
         "type": "scatter",
         "x": [
          315,
          315,
          325,
          325
         ],
         "xaxis": "x",
         "y": [
          0,
          0.051397412293108215,
          0.051397412293108215,
          0
         ],
         "yaxis": "y"
        },
        {
         "hoverinfo": "text",
         "marker": {
          "color": "rgb(0,116,217)"
         },
         "mode": "lines",
         "type": "scatter",
         "x": [
          305,
          305,
          320,
          320
         ],
         "xaxis": "x",
         "y": [
          0,
          0.1361526594675459,
          0.1361526594675459,
          0.051397412293108215
         ],
         "yaxis": "y"
        },
        {
         "hoverinfo": "text",
         "marker": {
          "color": "rgb(0,116,217)"
         },
         "mode": "lines",
         "type": "scatter",
         "x": [
          295,
          295,
          312.5,
          312.5
         ],
         "xaxis": "x",
         "y": [
          0,
          0.1740334532924853,
          0.1740334532924853,
          0.1361526594675459
         ],
         "yaxis": "y"
        },
        {
         "hoverinfo": "text",
         "marker": {
          "color": "rgb(0,116,217)"
         },
         "mode": "lines",
         "type": "scatter",
         "x": [
          272.5,
          272.5,
          303.75,
          303.75
         ],
         "xaxis": "x",
         "y": [
          0.12422212395013336,
          0.39640032045971685,
          0.39640032045971685,
          0.1740334532924853
         ],
         "yaxis": "y"
        },
        {
         "hoverinfo": "text",
         "marker": {
          "color": "rgb(0,116,217)"
         },
         "mode": "lines",
         "type": "scatter",
         "x": [
          227.5,
          227.5,
          288.125,
          288.125
         ],
         "xaxis": "x",
         "y": [
          0.23451818445284786,
          0.7690855005091025,
          0.7690855005091025,
          0.39640032045971685
         ],
         "yaxis": "y"
        },
        {
         "hoverinfo": "text",
         "marker": {
          "color": "rgb(0,116,217)"
         },
         "mode": "lines",
         "type": "scatter",
         "x": [
          168.125,
          168.125,
          257.8125,
          257.8125
         ],
         "xaxis": "x",
         "y": [
          0.6189575064916506,
          0.9542697637012879,
          0.9542697637012879,
          0.7690855005091025
         ],
         "yaxis": "y"
        },
        {
         "hoverinfo": "text",
         "marker": {
          "color": "rgb(0,116,217)"
         },
         "mode": "lines",
         "type": "scatter",
         "x": [
          335,
          335,
          345,
          345
         ],
         "xaxis": "x",
         "y": [
          0,
          0.3260194072991155,
          0.3260194072991155,
          0
         ],
         "yaxis": "y"
        },
        {
         "hoverinfo": "text",
         "marker": {
          "color": "rgb(0,116,217)"
         },
         "mode": "lines",
         "type": "scatter",
         "x": [
          355,
          355,
          365,
          365
         ],
         "xaxis": "x",
         "y": [
          0,
          0.18732341299624425,
          0.18732341299624425,
          0
         ],
         "yaxis": "y"
        },
        {
         "hoverinfo": "text",
         "marker": {
          "color": "rgb(0,116,217)"
         },
         "mode": "lines",
         "type": "scatter",
         "x": [
          375,
          375,
          385,
          385
         ],
         "xaxis": "x",
         "y": [
          0,
          0.05139741229310847,
          0.05139741229310847,
          0
         ],
         "yaxis": "y"
        },
        {
         "hoverinfo": "text",
         "marker": {
          "color": "rgb(0,116,217)"
         },
         "mode": "lines",
         "type": "scatter",
         "x": [
          395,
          395,
          405,
          405
         ],
         "xaxis": "x",
         "y": [
          0,
          0.09410402468181754,
          0.09410402468181754,
          0
         ],
         "yaxis": "y"
        },
        {
         "hoverinfo": "text",
         "marker": {
          "color": "rgb(0,116,217)"
         },
         "mode": "lines",
         "type": "scatter",
         "x": [
          380,
          380,
          400,
          400
         ],
         "xaxis": "x",
         "y": [
          0.05139741229310847,
          0.23318427572456576,
          0.23318427572456576,
          0.09410402468181754
         ],
         "yaxis": "y"
        },
        {
         "hoverinfo": "text",
         "marker": {
          "color": "rgb(0,116,217)"
         },
         "mode": "lines",
         "type": "scatter",
         "x": [
          360,
          360,
          390,
          390
         ],
         "xaxis": "x",
         "y": [
          0.18732341299624425,
          0.513337909002522,
          0.513337909002522,
          0.23318427572456576
         ],
         "yaxis": "y"
        },
        {
         "hoverinfo": "text",
         "marker": {
          "color": "rgb(0,116,217)"
         },
         "mode": "lines",
         "type": "scatter",
         "x": [
          415,
          415,
          425,
          425
         ],
         "xaxis": "x",
         "y": [
          0,
          0.23595263025062113,
          0.23595263025062113,
          0
         ],
         "yaxis": "y"
        },
        {
         "hoverinfo": "text",
         "marker": {
          "color": "rgb(0,116,217)"
         },
         "mode": "lines",
         "type": "scatter",
         "x": [
          455,
          455,
          465,
          465
         ],
         "xaxis": "x",
         "y": [
          0,
          0.16859051404210867,
          0.16859051404210867,
          0
         ],
         "yaxis": "y"
        },
        {
         "hoverinfo": "text",
         "marker": {
          "color": "rgb(0,116,217)"
         },
         "mode": "lines",
         "type": "scatter",
         "x": [
          445,
          445,
          460,
          460
         ],
         "xaxis": "x",
         "y": [
          0,
          0.1962501699168364,
          0.1962501699168364,
          0.16859051404210867
         ],
         "yaxis": "y"
        },
        {
         "hoverinfo": "text",
         "marker": {
          "color": "rgb(0,116,217)"
         },
         "mode": "lines",
         "type": "scatter",
         "x": [
          435,
          435,
          452.5,
          452.5
         ],
         "xaxis": "x",
         "y": [
          0,
          0.33339670250867176,
          0.33339670250867176,
          0.1962501699168364
         ],
         "yaxis": "y"
        },
        {
         "hoverinfo": "text",
         "marker": {
          "color": "rgb(0,116,217)"
         },
         "mode": "lines",
         "type": "scatter",
         "x": [
          420,
          420,
          443.75,
          443.75
         ],
         "xaxis": "x",
         "y": [
          0.23595263025062113,
          0.605581372416281,
          0.605581372416281,
          0.33339670250867176
         ],
         "yaxis": "y"
        },
        {
         "hoverinfo": "text",
         "marker": {
          "color": "rgb(0,116,217)"
         },
         "mode": "lines",
         "type": "scatter",
         "x": [
          375,
          375,
          431.875,
          431.875
         ],
         "xaxis": "x",
         "y": [
          0.513337909002522,
          0.9588877899651145,
          0.9588877899651145,
          0.605581372416281
         ],
         "yaxis": "y"
        },
        {
         "hoverinfo": "text",
         "marker": {
          "color": "rgb(0,116,217)"
         },
         "mode": "lines",
         "type": "scatter",
         "x": [
          340,
          340,
          403.4375,
          403.4375
         ],
         "xaxis": "x",
         "y": [
          0.3260194072991155,
          1.3539364891861478,
          1.3539364891861478,
          0.9588877899651145
         ],
         "yaxis": "y"
        },
        {
         "hoverinfo": "text",
         "marker": {
          "color": "rgb(0,116,217)"
         },
         "mode": "lines",
         "type": "scatter",
         "x": [
          212.96875,
          212.96875,
          371.71875,
          371.71875
         ],
         "xaxis": "x",
         "y": [
          0.9542697637012879,
          1.6115535631620235,
          1.6115535631620235,
          1.3539364891861478
         ],
         "yaxis": "y"
        },
        {
         "hoverinfo": "text",
         "marker": {
          "color": "rgb(0,116,217)"
         },
         "mode": "lines",
         "type": "scatter",
         "x": [
          122.5,
          122.5,
          292.34375,
          292.34375
         ],
         "xaxis": "x",
         "y": [
          0.7064096921199925,
          2.90949584489377,
          2.90949584489377,
          1.6115535631620235
         ],
         "yaxis": "y"
        },
        {
         "hoverinfo": "text",
         "marker": {
          "color": "rgb(0,116,217)"
         },
         "mode": "lines",
         "type": "scatter",
         "x": [
          37.5,
          37.5,
          207.421875,
          207.421875
         ],
         "xaxis": "x",
         "y": [
          1.762311591008444,
          3.3647650645415403,
          3.3647650645415403,
          2.90949584489377
         ],
         "yaxis": "y"
        },
        {
         "hoverinfo": "text",
         "marker": {
          "color": "rgb(0,116,217)"
         },
         "mode": "lines",
         "type": "scatter",
         "x": [
          495,
          495,
          505,
          505
         ],
         "xaxis": "x",
         "y": [
          0,
          0.38421012238807434,
          0.38421012238807434,
          0
         ],
         "yaxis": "y"
        },
        {
         "hoverinfo": "text",
         "marker": {
          "color": "rgb(0,116,217)"
         },
         "mode": "lines",
         "type": "scatter",
         "x": [
          485,
          485,
          500,
          500
         ],
         "xaxis": "x",
         "y": [
          0,
          0.42043420056182396,
          0.42043420056182396,
          0.38421012238807434
         ],
         "yaxis": "y"
        },
        {
         "hoverinfo": "text",
         "marker": {
          "color": "rgb(0,116,217)"
         },
         "mode": "lines",
         "type": "scatter",
         "x": [
          475,
          475,
          492.5,
          492.5
         ],
         "xaxis": "x",
         "y": [
          0,
          0.9624508321318378,
          0.9624508321318378,
          0.42043420056182396
         ],
         "yaxis": "y"
        },
        {
         "hoverinfo": "text",
         "marker": {
          "color": "rgb(0,116,217)"
         },
         "mode": "lines",
         "type": "scatter",
         "x": [
          515,
          515,
          525,
          525
         ],
         "xaxis": "x",
         "y": [
          0,
          0.041966867284866385,
          0.041966867284866385,
          0
         ],
         "yaxis": "y"
        },
        {
         "hoverinfo": "text",
         "marker": {
          "color": "rgb(0,116,217)"
         },
         "mode": "lines",
         "type": "scatter",
         "x": [
          535,
          535,
          545,
          545
         ],
         "xaxis": "x",
         "y": [
          0,
          0.07630648304882554,
          0.07630648304882554,
          0
         ],
         "yaxis": "y"
        },
        {
         "hoverinfo": "text",
         "marker": {
          "color": "rgb(0,116,217)"
         },
         "mode": "lines",
         "type": "scatter",
         "x": [
          555,
          555,
          565,
          565
         ],
         "xaxis": "x",
         "y": [
          0,
          0.10523708126474775,
          0.10523708126474775,
          0
         ],
         "yaxis": "y"
        },
        {
         "hoverinfo": "text",
         "marker": {
          "color": "rgb(0,116,217)"
         },
         "mode": "lines",
         "type": "scatter",
         "x": [
          540,
          540,
          560,
          560
         ],
         "xaxis": "x",
         "y": [
          0.07630648304882554,
          0.23028186877490872,
          0.23028186877490872,
          0.10523708126474775
         ],
         "yaxis": "y"
        },
        {
         "hoverinfo": "text",
         "marker": {
          "color": "rgb(0,116,217)"
         },
         "mode": "lines",
         "type": "scatter",
         "x": [
          520,
          520,
          550,
          550
         ],
         "xaxis": "x",
         "y": [
          0.041966867284866385,
          0.2654534380697451,
          0.2654534380697451,
          0.23028186877490872
         ],
         "yaxis": "y"
        },
        {
         "hoverinfo": "text",
         "marker": {
          "color": "rgb(0,116,217)"
         },
         "mode": "lines",
         "type": "scatter",
         "x": [
          585,
          585,
          595,
          595
         ],
         "xaxis": "x",
         "y": [
          0,
          0.13230071340335986,
          0.13230071340335986,
          0
         ],
         "yaxis": "y"
        },
        {
         "hoverinfo": "text",
         "marker": {
          "color": "rgb(0,116,217)"
         },
         "mode": "lines",
         "type": "scatter",
         "x": [
          575,
          575,
          590,
          590
         ],
         "xaxis": "x",
         "y": [
          0,
          0.3195470042292057,
          0.3195470042292057,
          0.13230071340335986
         ],
         "yaxis": "y"
        },
        {
         "hoverinfo": "text",
         "marker": {
          "color": "rgb(0,116,217)"
         },
         "mode": "lines",
         "type": "scatter",
         "x": [
          535,
          535,
          582.5,
          582.5
         ],
         "xaxis": "x",
         "y": [
          0.2654534380697451,
          0.5817597519203278,
          0.5817597519203278,
          0.3195470042292057
         ],
         "yaxis": "y"
        },
        {
         "hoverinfo": "text",
         "marker": {
          "color": "rgb(0,116,217)"
         },
         "mode": "lines",
         "type": "scatter",
         "x": [
          625,
          625,
          635,
          635
         ],
         "xaxis": "x",
         "y": [
          0,
          0.04365285472512198,
          0.04365285472512198,
          0
         ],
         "yaxis": "y"
        },
        {
         "hoverinfo": "text",
         "marker": {
          "color": "rgb(0,116,217)"
         },
         "mode": "lines",
         "type": "scatter",
         "x": [
          645,
          645,
          655,
          655
         ],
         "xaxis": "x",
         "y": [
          0,
          0.04365285472512305,
          0.04365285472512305,
          0
         ],
         "yaxis": "y"
        },
        {
         "hoverinfo": "text",
         "marker": {
          "color": "rgb(0,116,217)"
         },
         "mode": "lines",
         "type": "scatter",
         "x": [
          630,
          630,
          650,
          650
         ],
         "xaxis": "x",
         "y": [
          0.04365285472512198,
          0.14513097895344762,
          0.14513097895344762,
          0.04365285472512305
         ],
         "yaxis": "y"
        },
        {
         "hoverinfo": "text",
         "marker": {
          "color": "rgb(0,116,217)"
         },
         "mode": "lines",
         "type": "scatter",
         "x": [
          615,
          615,
          640,
          640
         ],
         "xaxis": "x",
         "y": [
          0,
          0.2553227356318863,
          0.2553227356318863,
          0.14513097895344762
         ],
         "yaxis": "y"
        },
        {
         "hoverinfo": "text",
         "marker": {
          "color": "rgb(0,116,217)"
         },
         "mode": "lines",
         "type": "scatter",
         "x": [
          685,
          685,
          695,
          695
         ],
         "xaxis": "x",
         "y": [
          0,
          0.08337577355010792,
          0.08337577355010792,
          0
         ],
         "yaxis": "y"
        },
        {
         "hoverinfo": "text",
         "marker": {
          "color": "rgb(0,116,217)"
         },
         "mode": "lines",
         "type": "scatter",
         "x": [
          675,
          675,
          690,
          690
         ],
         "xaxis": "x",
         "y": [
          0,
          0.14223637132454756,
          0.14223637132454756,
          0.08337577355010792
         ],
         "yaxis": "y"
        },
        {
         "hoverinfo": "text",
         "marker": {
          "color": "rgb(0,116,217)"
         },
         "mode": "lines",
         "type": "scatter",
         "x": [
          665,
          665,
          682.5,
          682.5
         ],
         "xaxis": "x",
         "y": [
          0,
          0.32030950294232585,
          0.32030950294232585,
          0.14223637132454756
         ],
         "yaxis": "y"
        },
        {
         "hoverinfo": "text",
         "marker": {
          "color": "rgb(0,116,217)"
         },
         "mode": "lines",
         "type": "scatter",
         "x": [
          627.5,
          627.5,
          673.75,
          673.75
         ],
         "xaxis": "x",
         "y": [
          0.2553227356318863,
          0.6022795159216784,
          0.6022795159216784,
          0.32030950294232585
         ],
         "yaxis": "y"
        },
        {
         "hoverinfo": "text",
         "marker": {
          "color": "rgb(0,116,217)"
         },
         "mode": "lines",
         "type": "scatter",
         "x": [
          725,
          725,
          735,
          735
         ],
         "xaxis": "x",
         "y": [
          0,
          0.05331907673260631,
          0.05331907673260631,
          0
         ],
         "yaxis": "y"
        },
        {
         "hoverinfo": "text",
         "marker": {
          "color": "rgb(0,116,217)"
         },
         "mode": "lines",
         "type": "scatter",
         "x": [
          715,
          715,
          730,
          730
         ],
         "xaxis": "x",
         "y": [
          0,
          0.12145780184386114,
          0.12145780184386114,
          0.05331907673260631
         ],
         "yaxis": "y"
        },
        {
         "hoverinfo": "text",
         "marker": {
          "color": "rgb(0,116,217)"
         },
         "mode": "lines",
         "type": "scatter",
         "x": [
          705,
          705,
          722.5,
          722.5
         ],
         "xaxis": "x",
         "y": [
          0,
          0.39646197580820547,
          0.39646197580820547,
          0.12145780184386114
         ],
         "yaxis": "y"
        },
        {
         "hoverinfo": "text",
         "marker": {
          "color": "rgb(0,116,217)"
         },
         "mode": "lines",
         "type": "scatter",
         "x": [
          745,
          745,
          755,
          755
         ],
         "xaxis": "x",
         "y": [
          0,
          0.21663725311855755,
          0.21663725311855755,
          0
         ],
         "yaxis": "y"
        },
        {
         "hoverinfo": "text",
         "marker": {
          "color": "rgb(0,116,217)"
         },
         "mode": "lines",
         "type": "scatter",
         "x": [
          785,
          785,
          795,
          795
         ],
         "xaxis": "x",
         "y": [
          0,
          0.08561271604142995,
          0.08561271604142995,
          0
         ],
         "yaxis": "y"
        },
        {
         "hoverinfo": "text",
         "marker": {
          "color": "rgb(0,116,217)"
         },
         "mode": "lines",
         "type": "scatter",
         "x": [
          775,
          775,
          790,
          790
         ],
         "xaxis": "x",
         "y": [
          0,
          0.12913046641490056,
          0.12913046641490056,
          0.08561271604142995
         ],
         "yaxis": "y"
        },
        {
         "hoverinfo": "text",
         "marker": {
          "color": "rgb(0,116,217)"
         },
         "mode": "lines",
         "type": "scatter",
         "x": [
          765,
          765,
          782.5,
          782.5
         ],
         "xaxis": "x",
         "y": [
          0,
          0.2735606229099886,
          0.2735606229099886,
          0.12913046641490056
         ],
         "yaxis": "y"
        },
        {
         "hoverinfo": "text",
         "marker": {
          "color": "rgb(0,116,217)"
         },
         "mode": "lines",
         "type": "scatter",
         "x": [
          750,
          750,
          773.75,
          773.75
         ],
         "xaxis": "x",
         "y": [
          0.21663725311855755,
          0.43254895124367815,
          0.43254895124367815,
          0.2735606229099886
         ],
         "yaxis": "y"
        },
        {
         "hoverinfo": "text",
         "marker": {
          "color": "rgb(0,116,217)"
         },
         "mode": "lines",
         "type": "scatter",
         "x": [
          713.75,
          713.75,
          761.875,
          761.875
         ],
         "xaxis": "x",
         "y": [
          0.39646197580820547,
          0.6261276907800097,
          0.6261276907800097,
          0.43254895124367815
         ],
         "yaxis": "y"
        },
        {
         "hoverinfo": "text",
         "marker": {
          "color": "rgb(0,116,217)"
         },
         "mode": "lines",
         "type": "scatter",
         "x": [
          650.625,
          650.625,
          737.8125,
          737.8125
         ],
         "xaxis": "x",
         "y": [
          0.6022795159216784,
          0.8851341628602793,
          0.8851341628602793,
          0.6261276907800097
         ],
         "yaxis": "y"
        },
        {
         "hoverinfo": "text",
         "marker": {
          "color": "rgb(0,116,217)"
         },
         "mode": "lines",
         "type": "scatter",
         "x": [
          605,
          605,
          694.21875,
          694.21875
         ],
         "xaxis": "x",
         "y": [
          0,
          1.027698765023606,
          1.027698765023606,
          0.8851341628602793
         ],
         "yaxis": "y"
        },
        {
         "hoverinfo": "text",
         "marker": {
          "color": "rgb(0,116,217)"
         },
         "mode": "lines",
         "type": "scatter",
         "x": [
          558.75,
          558.75,
          649.609375,
          649.609375
         ],
         "xaxis": "x",
         "y": [
          0.5817597519203278,
          1.708679488869281,
          1.708679488869281,
          1.027698765023606
         ],
         "yaxis": "y"
        },
        {
         "hoverinfo": "text",
         "marker": {
          "color": "rgb(0,116,217)"
         },
         "mode": "lines",
         "type": "scatter",
         "x": [
          483.75,
          483.75,
          604.1796875,
          604.1796875
         ],
         "xaxis": "x",
         "y": [
          0.9624508321318378,
          2.9069888715125742,
          2.9069888715125742,
          1.708679488869281
         ],
         "yaxis": "y"
        },
        {
         "hoverinfo": "text",
         "marker": {
          "color": "rgb(0,116,217)"
         },
         "mode": "lines",
         "type": "scatter",
         "x": [
          825,
          825,
          835,
          835
         ],
         "xaxis": "x",
         "y": [
          0,
          0.21134902766696648,
          0.21134902766696648,
          0
         ],
         "yaxis": "y"
        },
        {
         "hoverinfo": "text",
         "marker": {
          "color": "rgb(0,116,217)"
         },
         "mode": "lines",
         "type": "scatter",
         "x": [
          815,
          815,
          830,
          830
         ],
         "xaxis": "x",
         "y": [
          0,
          0.3365510487865416,
          0.3365510487865416,
          0.21134902766696648
         ],
         "yaxis": "y"
        },
        {
         "hoverinfo": "text",
         "marker": {
          "color": "rgb(0,116,217)"
         },
         "mode": "lines",
         "type": "scatter",
         "x": [
          865,
          865,
          875,
          875
         ],
         "xaxis": "x",
         "y": [
          0,
          0.05331907673260727,
          0.05331907673260727,
          0
         ],
         "yaxis": "y"
        },
        {
         "hoverinfo": "text",
         "marker": {
          "color": "rgb(0,116,217)"
         },
         "mode": "lines",
         "type": "scatter",
         "x": [
          855,
          855,
          870,
          870
         ],
         "xaxis": "x",
         "y": [
          0,
          0.13784829338354526,
          0.13784829338354526,
          0.05331907673260727
         ],
         "yaxis": "y"
        },
        {
         "hoverinfo": "text",
         "marker": {
          "color": "rgb(0,116,217)"
         },
         "mode": "lines",
         "type": "scatter",
         "x": [
          845,
          845,
          862.5,
          862.5
         ],
         "xaxis": "x",
         "y": [
          0,
          0.32070277540188197,
          0.32070277540188197,
          0.13784829338354526
         ],
         "yaxis": "y"
        },
        {
         "hoverinfo": "text",
         "marker": {
          "color": "rgb(0,116,217)"
         },
         "mode": "lines",
         "type": "scatter",
         "x": [
          895,
          895,
          905,
          905
         ],
         "xaxis": "x",
         "y": [
          0,
          0.0381532415244122,
          0.0381532415244122,
          0
         ],
         "yaxis": "y"
        },
        {
         "hoverinfo": "text",
         "marker": {
          "color": "rgb(0,116,217)"
         },
         "mode": "lines",
         "type": "scatter",
         "x": [
          885,
          885,
          900,
          900
         ],
         "xaxis": "x",
         "y": [
          0,
          0.14513097895344745,
          0.14513097895344745,
          0.0381532415244122
         ],
         "yaxis": "y"
        },
        {
         "hoverinfo": "text",
         "marker": {
          "color": "rgb(0,116,217)"
         },
         "mode": "lines",
         "type": "scatter",
         "x": [
          935,
          935,
          945,
          945
         ],
         "xaxis": "x",
         "y": [
          0,
          0,
          0,
          0
         ],
         "yaxis": "y"
        },
        {
         "hoverinfo": "text",
         "marker": {
          "color": "rgb(0,116,217)"
         },
         "mode": "lines",
         "type": "scatter",
         "x": [
          925,
          925,
          940,
          940
         ],
         "xaxis": "x",
         "y": [
          0,
          0,
          0,
          0
         ],
         "yaxis": "y"
        },
        {
         "hoverinfo": "text",
         "marker": {
          "color": "rgb(0,116,217)"
         },
         "mode": "lines",
         "type": "scatter",
         "x": [
          915,
          915,
          932.5,
          932.5
         ],
         "xaxis": "x",
         "y": [
          0,
          0.05651285515586222,
          0.05651285515586222,
          0
         ],
         "yaxis": "y"
        },
        {
         "hoverinfo": "text",
         "marker": {
          "color": "rgb(0,116,217)"
         },
         "mode": "lines",
         "type": "scatter",
         "x": [
          955,
          955,
          965,
          965
         ],
         "xaxis": "x",
         "y": [
          0,
          0.1559086431987801,
          0.1559086431987801,
          0
         ],
         "yaxis": "y"
        },
        {
         "hoverinfo": "text",
         "marker": {
          "color": "rgb(0,116,217)"
         },
         "mode": "lines",
         "type": "scatter",
         "x": [
          923.75,
          923.75,
          960,
          960
         ],
         "xaxis": "x",
         "y": [
          0.05651285515586222,
          0.2628844414641438,
          0.2628844414641438,
          0.1559086431987801
         ],
         "yaxis": "y"
        },
        {
         "hoverinfo": "text",
         "marker": {
          "color": "rgb(0,116,217)"
         },
         "mode": "lines",
         "type": "scatter",
         "x": [
          892.5,
          892.5,
          941.875,
          941.875
         ],
         "xaxis": "x",
         "y": [
          0.14513097895344745,
          0.34869336804184453,
          0.34869336804184453,
          0.2628844414641438
         ],
         "yaxis": "y"
        },
        {
         "hoverinfo": "text",
         "marker": {
          "color": "rgb(0,116,217)"
         },
         "mode": "lines",
         "type": "scatter",
         "x": [
          853.75,
          853.75,
          917.1875,
          917.1875
         ],
         "xaxis": "x",
         "y": [
          0.32070277540188197,
          0.6202520639239186,
          0.6202520639239186,
          0.34869336804184453
         ],
         "yaxis": "y"
        },
        {
         "hoverinfo": "text",
         "marker": {
          "color": "rgb(0,116,217)"
         },
         "mode": "lines",
         "type": "scatter",
         "x": [
          822.5,
          822.5,
          885.46875,
          885.46875
         ],
         "xaxis": "x",
         "y": [
          0.3365510487865416,
          0.7836907919106655,
          0.7836907919106655,
          0.6202520639239186
         ],
         "yaxis": "y"
        },
        {
         "hoverinfo": "text",
         "marker": {
          "color": "rgb(0,116,217)"
         },
         "mode": "lines",
         "type": "scatter",
         "x": [
          805,
          805,
          853.984375,
          853.984375
         ],
         "xaxis": "x",
         "y": [
          0,
          2.069589191890011,
          2.069589191890011,
          0.7836907919106655
         ],
         "yaxis": "y"
        },
        {
         "hoverinfo": "text",
         "marker": {
          "color": "rgb(0,116,217)"
         },
         "mode": "lines",
         "type": "scatter",
         "x": [
          995,
          995,
          1005,
          1005
         ],
         "xaxis": "x",
         "y": [
          0,
          0.20980226479245015,
          0.20980226479245015,
          0
         ],
         "yaxis": "y"
        },
        {
         "hoverinfo": "text",
         "marker": {
          "color": "rgb(0,116,217)"
         },
         "mode": "lines",
         "type": "scatter",
         "x": [
          985,
          985,
          1000,
          1000
         ],
         "xaxis": "x",
         "y": [
          0,
          0.48567941319825475,
          0.48567941319825475,
          0.20980226479245015
         ],
         "yaxis": "y"
        },
        {
         "hoverinfo": "text",
         "marker": {
          "color": "rgb(0,116,217)"
         },
         "mode": "lines",
         "type": "scatter",
         "x": [
          1025,
          1025,
          1035,
          1035
         ],
         "xaxis": "x",
         "y": [
          0,
          0.15499823689709472,
          0.15499823689709472,
          0
         ],
         "yaxis": "y"
        },
        {
         "hoverinfo": "text",
         "marker": {
          "color": "rgb(0,116,217)"
         },
         "mode": "lines",
         "type": "scatter",
         "x": [
          1015,
          1015,
          1030,
          1030
         ],
         "xaxis": "x",
         "y": [
          0,
          0.28722805212396507,
          0.28722805212396507,
          0.15499823689709472
         ],
         "yaxis": "y"
        },
        {
         "hoverinfo": "text",
         "marker": {
          "color": "rgb(0,116,217)"
         },
         "mode": "lines",
         "type": "scatter",
         "x": [
          1045,
          1045,
          1055,
          1055
         ],
         "xaxis": "x",
         "y": [
          0,
          0.107862101188506,
          0.107862101188506,
          0
         ],
         "yaxis": "y"
        },
        {
         "hoverinfo": "text",
         "marker": {
          "color": "rgb(0,116,217)"
         },
         "mode": "lines",
         "type": "scatter",
         "x": [
          1065,
          1065,
          1075,
          1075
         ],
         "xaxis": "x",
         "y": [
          0,
          0.1214578018438614,
          0.1214578018438614,
          0
         ],
         "yaxis": "y"
        },
        {
         "hoverinfo": "text",
         "marker": {
          "color": "rgb(0,116,217)"
         },
         "mode": "lines",
         "type": "scatter",
         "x": [
          1050,
          1050,
          1070,
          1070
         ],
         "xaxis": "x",
         "y": [
          0.107862101188506,
          0.35722646540345715,
          0.35722646540345715,
          0.1214578018438614
         ],
         "yaxis": "y"
        },
        {
         "hoverinfo": "text",
         "marker": {
          "color": "rgb(0,116,217)"
         },
         "mode": "lines",
         "type": "scatter",
         "x": [
          1022.5,
          1022.5,
          1060,
          1060
         ],
         "xaxis": "x",
         "y": [
          0.28722805212396507,
          0.6133451557743755,
          0.6133451557743755,
          0.35722646540345715
         ],
         "yaxis": "y"
        },
        {
         "hoverinfo": "text",
         "marker": {
          "color": "rgb(0,116,217)"
         },
         "mode": "lines",
         "type": "scatter",
         "x": [
          992.5,
          992.5,
          1041.25,
          1041.25
         ],
         "xaxis": "x",
         "y": [
          0.48567941319825475,
          1.0522663473970164,
          1.0522663473970164,
          0.6133451557743755
         ],
         "yaxis": "y"
        },
        {
         "hoverinfo": "text",
         "marker": {
          "color": "rgb(0,116,217)"
         },
         "mode": "lines",
         "type": "scatter",
         "x": [
          975,
          975,
          1016.875,
          1016.875
         ],
         "xaxis": "x",
         "y": [
          0,
          1.3872049254999177,
          1.3872049254999177,
          1.0522663473970164
         ],
         "yaxis": "y"
        },
        {
         "hoverinfo": "text",
         "marker": {
          "color": "rgb(0,116,217)"
         },
         "mode": "lines",
         "type": "scatter",
         "x": [
          1095,
          1095,
          1105,
          1105
         ],
         "xaxis": "x",
         "y": [
          0,
          0.09268419554363244,
          0.09268419554363244,
          0
         ],
         "yaxis": "y"
        },
        {
         "hoverinfo": "text",
         "marker": {
          "color": "rgb(0,116,217)"
         },
         "mode": "lines",
         "type": "scatter",
         "x": [
          1085,
          1085,
          1100,
          1100
         ],
         "xaxis": "x",
         "y": [
          0,
          0.39149727809205953,
          0.39149727809205953,
          0.09268419554363244
         ],
         "yaxis": "y"
        },
        {
         "hoverinfo": "text",
         "marker": {
          "color": "rgb(0,116,217)"
         },
         "mode": "lines",
         "type": "scatter",
         "x": [
          1125,
          1125,
          1135,
          1135
         ],
         "xaxis": "x",
         "y": [
          0,
          0.22786300506616408,
          0.22786300506616408,
          0
         ],
         "yaxis": "y"
        },
        {
         "hoverinfo": "text",
         "marker": {
          "color": "rgb(0,116,217)"
         },
         "mode": "lines",
         "type": "scatter",
         "x": [
          1115,
          1115,
          1130,
          1130
         ],
         "xaxis": "x",
         "y": [
          0,
          0.4024390419366324,
          0.4024390419366324,
          0.22786300506616408
         ],
         "yaxis": "y"
        },
        {
         "hoverinfo": "text",
         "marker": {
          "color": "rgb(0,116,217)"
         },
         "mode": "lines",
         "type": "scatter",
         "x": [
          1145,
          1145,
          1155,
          1155
         ],
         "xaxis": "x",
         "y": [
          0,
          0.14143973075520247,
          0.14143973075520247,
          0
         ],
         "yaxis": "y"
        },
        {
         "hoverinfo": "text",
         "marker": {
          "color": "rgb(0,116,217)"
         },
         "mode": "lines",
         "type": "scatter",
         "x": [
          1165,
          1165,
          1175,
          1175
         ],
         "xaxis": "x",
         "y": [
          0,
          0.10569741933109293,
          0.10569741933109293,
          0
         ],
         "yaxis": "y"
        },
        {
         "hoverinfo": "text",
         "marker": {
          "color": "rgb(0,116,217)"
         },
         "mode": "lines",
         "type": "scatter",
         "x": [
          1195,
          1195,
          1205,
          1205
         ],
         "xaxis": "x",
         "y": [
          0,
          0,
          0,
          0
         ],
         "yaxis": "y"
        },
        {
         "hoverinfo": "text",
         "marker": {
          "color": "rgb(0,116,217)"
         },
         "mode": "lines",
         "type": "scatter",
         "x": [
          1185,
          1185,
          1200,
          1200
         ],
         "xaxis": "x",
         "y": [
          0,
          0.12401589958459777,
          0.12401589958459777,
          0
         ],
         "yaxis": "y"
        },
        {
         "hoverinfo": "text",
         "marker": {
          "color": "rgb(0,116,217)"
         },
         "mode": "lines",
         "type": "scatter",
         "x": [
          1170,
          1170,
          1192.5,
          1192.5
         ],
         "xaxis": "x",
         "y": [
          0.10569741933109293,
          0.3323990748831358,
          0.3323990748831358,
          0.12401589958459777
         ],
         "yaxis": "y"
        },
        {
         "hoverinfo": "text",
         "marker": {
          "color": "rgb(0,116,217)"
         },
         "mode": "lines",
         "type": "scatter",
         "x": [
          1150,
          1150,
          1181.25,
          1181.25
         ],
         "xaxis": "x",
         "y": [
          0.14143973075520247,
          0.5063391269181586,
          0.5063391269181586,
          0.3323990748831358
         ],
         "yaxis": "y"
        },
        {
         "hoverinfo": "text",
         "marker": {
          "color": "rgb(0,116,217)"
         },
         "mode": "lines",
         "type": "scatter",
         "x": [
          1122.5,
          1122.5,
          1165.625,
          1165.625
         ],
         "xaxis": "x",
         "y": [
          0.4024390419366324,
          0.7533870180569349,
          0.7533870180569349,
          0.5063391269181586
         ],
         "yaxis": "y"
        },
        {
         "hoverinfo": "text",
         "marker": {
          "color": "rgb(0,116,217)"
         },
         "mode": "lines",
         "type": "scatter",
         "x": [
          1092.5,
          1092.5,
          1144.0625,
          1144.0625
         ],
         "xaxis": "x",
         "y": [
          0.39149727809205953,
          1.2906485879870762,
          1.2906485879870762,
          0.7533870180569349
         ],
         "yaxis": "y"
        },
        {
         "hoverinfo": "text",
         "marker": {
          "color": "rgb(0,116,217)"
         },
         "mode": "lines",
         "type": "scatter",
         "x": [
          1215,
          1215,
          1225,
          1225
         ],
         "xaxis": "x",
         "y": [
          0,
          0.13230071340336036,
          0.13230071340336036,
          0
         ],
         "yaxis": "y"
        },
        {
         "hoverinfo": "text",
         "marker": {
          "color": "rgb(0,116,217)"
         },
         "mode": "lines",
         "type": "scatter",
         "x": [
          1245,
          1245,
          1255,
          1255
         ],
         "xaxis": "x",
         "y": [
          0,
          0.0839337345697327,
          0.0839337345697327,
          0
         ],
         "yaxis": "y"
        },
        {
         "hoverinfo": "text",
         "marker": {
          "color": "rgb(0,116,217)"
         },
         "mode": "lines",
         "type": "scatter",
         "x": [
          1235,
          1235,
          1250,
          1250
         ],
         "xaxis": "x",
         "y": [
          0,
          0.14415651931954473,
          0.14415651931954473,
          0.0839337345697327
         ],
         "yaxis": "y"
        },
        {
         "hoverinfo": "text",
         "marker": {
          "color": "rgb(0,116,217)"
         },
         "mode": "lines",
         "type": "scatter",
         "x": [
          1220,
          1220,
          1242.5,
          1242.5
         ],
         "xaxis": "x",
         "y": [
          0.13230071340336036,
          0.3053794702742376,
          0.3053794702742376,
          0.14415651931954473
         ],
         "yaxis": "y"
        },
        {
         "hoverinfo": "text",
         "marker": {
          "color": "rgb(0,116,217)"
         },
         "mode": "lines",
         "type": "scatter",
         "x": [
          1265,
          1265,
          1275,
          1275
         ],
         "xaxis": "x",
         "y": [
          0,
          0.05919022499216758,
          0.05919022499216758,
          0
         ],
         "yaxis": "y"
        },
        {
         "hoverinfo": "text",
         "marker": {
          "color": "rgb(0,116,217)"
         },
         "mode": "lines",
         "type": "scatter",
         "x": [
          1285,
          1285,
          1295,
          1295
         ],
         "xaxis": "x",
         "y": [
          0,
          0.14271216373112086,
          0.14271216373112086,
          0
         ],
         "yaxis": "y"
        },
        {
         "hoverinfo": "text",
         "marker": {
          "color": "rgb(0,116,217)"
         },
         "mode": "lines",
         "type": "scatter",
         "x": [
          1270,
          1270,
          1290,
          1290
         ],
         "xaxis": "x",
         "y": [
          0.05919022499216758,
          0.3834212740664657,
          0.3834212740664657,
          0.14271216373112086
         ],
         "yaxis": "y"
        },
        {
         "hoverinfo": "text",
         "marker": {
          "color": "rgb(0,116,217)"
         },
         "mode": "lines",
         "type": "scatter",
         "x": [
          1231.25,
          1231.25,
          1280,
          1280
         ],
         "xaxis": "x",
         "y": [
          0.3053794702742376,
          0.6353698952974258,
          0.6353698952974258,
          0.3834212740664657
         ],
         "yaxis": "y"
        },
        {
         "hoverinfo": "text",
         "marker": {
          "color": "rgb(0,116,217)"
         },
         "mode": "lines",
         "type": "scatter",
         "x": [
          1315,
          1315,
          1325,
          1325
         ],
         "xaxis": "x",
         "y": [
          0,
          0.011445559135701352,
          0.011445559135701352,
          0
         ],
         "yaxis": "y"
        },
        {
         "hoverinfo": "text",
         "marker": {
          "color": "rgb(0,116,217)"
         },
         "mode": "lines",
         "type": "scatter",
         "x": [
          1305,
          1305,
          1320,
          1320
         ],
         "xaxis": "x",
         "y": [
          0,
          0.06214780539363305,
          0.06214780539363305,
          0.011445559135701352
         ],
         "yaxis": "y"
        },
        {
         "hoverinfo": "text",
         "marker": {
          "color": "rgb(0,116,217)"
         },
         "mode": "lines",
         "type": "scatter",
         "x": [
          1345,
          1345,
          1355,
          1355
         ],
         "xaxis": "x",
         "y": [
          0,
          0.06481686495779523,
          0.06481686495779523,
          0
         ],
         "yaxis": "y"
        },
        {
         "hoverinfo": "text",
         "marker": {
          "color": "rgb(0,116,217)"
         },
         "mode": "lines",
         "type": "scatter",
         "x": [
          1335,
          1335,
          1350,
          1350
         ],
         "xaxis": "x",
         "y": [
          0,
          0.1460865889046135,
          0.1460865889046135,
          0.06481686495779523
         ],
         "yaxis": "y"
        },
        {
         "hoverinfo": "text",
         "marker": {
          "color": "rgb(0,116,217)"
         },
         "mode": "lines",
         "type": "scatter",
         "x": [
          1312.5,
          1312.5,
          1342.5,
          1342.5
         ],
         "xaxis": "x",
         "y": [
          0.06214780539363305,
          0.42698890131574857,
          0.42698890131574857,
          0.1460865889046135
         ],
         "yaxis": "y"
        },
        {
         "hoverinfo": "text",
         "marker": {
          "color": "rgb(0,116,217)"
         },
         "mode": "lines",
         "type": "scatter",
         "x": [
          1375,
          1375,
          1385,
          1385
         ],
         "xaxis": "x",
         "y": [
          0,
          0.04365285472512291,
          0.04365285472512291,
          0
         ],
         "yaxis": "y"
        },
        {
         "hoverinfo": "text",
         "marker": {
          "color": "rgb(0,116,217)"
         },
         "mode": "lines",
         "type": "scatter",
         "x": [
          1395,
          1395,
          1405,
          1405
         ],
         "xaxis": "x",
         "y": [
          0,
          0.09968032343222567,
          0.09968032343222567,
          0
         ],
         "yaxis": "y"
        },
        {
         "hoverinfo": "text",
         "marker": {
          "color": "rgb(0,116,217)"
         },
         "mode": "lines",
         "type": "scatter",
         "x": [
          1380,
          1380,
          1400,
          1400
         ],
         "xaxis": "x",
         "y": [
          0.04365285472512291,
          0.2461069312259658,
          0.2461069312259658,
          0.09968032343222567
         ],
         "yaxis": "y"
        },
        {
         "hoverinfo": "text",
         "marker": {
          "color": "rgb(0,116,217)"
         },
         "mode": "lines",
         "type": "scatter",
         "x": [
          1365,
          1365,
          1390,
          1390
         ],
         "xaxis": "x",
         "y": [
          0,
          0.3000016892075773,
          0.3000016892075773,
          0.2461069312259658
         ],
         "yaxis": "y"
        },
        {
         "hoverinfo": "text",
         "marker": {
          "color": "rgb(0,116,217)"
         },
         "mode": "lines",
         "type": "scatter",
         "x": [
          1415,
          1415,
          1425,
          1425
         ],
         "xaxis": "x",
         "y": [
          0,
          0.15701149474334042,
          0.15701149474334042,
          0
         ],
         "yaxis": "y"
        },
        {
         "hoverinfo": "text",
         "marker": {
          "color": "rgb(0,116,217)"
         },
         "mode": "lines",
         "type": "scatter",
         "x": [
          1435,
          1435,
          1445,
          1445
         ],
         "xaxis": "x",
         "y": [
          0,
          0.15995723019781896,
          0.15995723019781896,
          0
         ],
         "yaxis": "y"
        },
        {
         "hoverinfo": "text",
         "marker": {
          "color": "rgb(0,116,217)"
         },
         "mode": "lines",
         "type": "scatter",
         "x": [
          1455,
          1455,
          1465,
          1465
         ],
         "xaxis": "x",
         "y": [
          0,
          0.11942903646680658,
          0.11942903646680658,
          0
         ],
         "yaxis": "y"
        },
        {
         "hoverinfo": "text",
         "marker": {
          "color": "rgb(0,116,217)"
         },
         "mode": "lines",
         "type": "scatter",
         "x": [
          1485,
          1485,
          1495,
          1495
         ],
         "xaxis": "x",
         "y": [
          0,
          0.06740481035033681,
          0.06740481035033681,
          0
         ],
         "yaxis": "y"
        },
        {
         "hoverinfo": "text",
         "marker": {
          "color": "rgb(0,116,217)"
         },
         "mode": "lines",
         "type": "scatter",
         "x": [
          1475,
          1475,
          1490,
          1490
         ],
         "xaxis": "x",
         "y": [
          0,
          0.1467494829642949,
          0.1467494829642949,
          0.06740481035033681
         ],
         "yaxis": "y"
        },
        {
         "hoverinfo": "text",
         "marker": {
          "color": "rgb(0,116,217)"
         },
         "mode": "lines",
         "type": "scatter",
         "x": [
          1460,
          1460,
          1482.5,
          1482.5
         ],
         "xaxis": "x",
         "y": [
          0.11942903646680658,
          0.254883224104014,
          0.254883224104014,
          0.1467494829642949
         ],
         "yaxis": "y"
        },
        {
         "hoverinfo": "text",
         "marker": {
          "color": "rgb(0,116,217)"
         },
         "mode": "lines",
         "type": "scatter",
         "x": [
          1440,
          1440,
          1471.25,
          1471.25
         ],
         "xaxis": "x",
         "y": [
          0.15995723019781896,
          0.3746918975833651,
          0.3746918975833651,
          0.254883224104014
         ],
         "yaxis": "y"
        },
        {
         "hoverinfo": "text",
         "marker": {
          "color": "rgb(0,116,217)"
         },
         "mode": "lines",
         "type": "scatter",
         "x": [
          1420,
          1420,
          1455.625,
          1455.625
         ],
         "xaxis": "x",
         "y": [
          0.15701149474334042,
          0.4690531752873017,
          0.4690531752873017,
          0.3746918975833651
         ],
         "yaxis": "y"
        },
        {
         "hoverinfo": "text",
         "marker": {
          "color": "rgb(0,116,217)"
         },
         "mode": "lines",
         "type": "scatter",
         "x": [
          1377.5,
          1377.5,
          1437.8125,
          1437.8125
         ],
         "xaxis": "x",
         "y": [
          0.3000016892075773,
          0.8250034255081452,
          0.8250034255081452,
          0.4690531752873017
         ],
         "yaxis": "y"
        },
        {
         "hoverinfo": "text",
         "marker": {
          "color": "rgb(0,116,217)"
         },
         "mode": "lines",
         "type": "scatter",
         "x": [
          1327.5,
          1327.5,
          1407.65625,
          1407.65625
         ],
         "xaxis": "x",
         "y": [
          0.42698890131574857,
          1.2145154428516793,
          1.2145154428516793,
          0.8250034255081452
         ],
         "yaxis": "y"
        },
        {
         "hoverinfo": "text",
         "marker": {
          "color": "rgb(0,116,217)"
         },
         "mode": "lines",
         "type": "scatter",
         "x": [
          1255.625,
          1255.625,
          1367.578125,
          1367.578125
         ],
         "xaxis": "x",
         "y": [
          0.6353698952974258,
          1.459609572308714,
          1.459609572308714,
          1.2145154428516793
         ],
         "yaxis": "y"
        },
        {
         "hoverinfo": "text",
         "marker": {
          "color": "rgb(0,116,217)"
         },
         "mode": "lines",
         "type": "scatter",
         "x": [
          1118.28125,
          1118.28125,
          1311.6015625,
          1311.6015625
         ],
         "xaxis": "x",
         "y": [
          1.2906485879870762,
          1.933107350227385,
          1.933107350227385,
          1.459609572308714
         ],
         "yaxis": "y"
        },
        {
         "hoverinfo": "text",
         "marker": {
          "color": "rgb(0,116,217)"
         },
         "mode": "lines",
         "type": "scatter",
         "x": [
          995.9375,
          995.9375,
          1214.94140625,
          1214.94140625
         ],
         "xaxis": "x",
         "y": [
          1.3872049254999177,
          2.8865017102297688,
          2.8865017102297688,
          1.933107350227385
         ],
         "yaxis": "y"
        },
        {
         "hoverinfo": "text",
         "marker": {
          "color": "rgb(0,116,217)"
         },
         "mode": "lines",
         "type": "scatter",
         "x": [
          829.4921875,
          829.4921875,
          1105.439453125,
          1105.439453125
         ],
         "xaxis": "x",
         "y": [
          2.069589191890011,
          4.3157894524664835,
          4.3157894524664835,
          2.8865017102297688
         ],
         "yaxis": "y"
        },
        {
         "hoverinfo": "text",
         "marker": {
          "color": "rgb(0,116,217)"
         },
         "mode": "lines",
         "type": "scatter",
         "x": [
          543.96484375,
          543.96484375,
          967.4658203125,
          967.4658203125
         ],
         "xaxis": "x",
         "y": [
          2.9069888715125742,
          5.87130381286984,
          5.87130381286984,
          4.3157894524664835
         ],
         "yaxis": "y"
        },
        {
         "hoverinfo": "text",
         "marker": {
          "color": "rgb(0,116,217)"
         },
         "mode": "lines",
         "type": "scatter",
         "x": [
          122.4609375,
          122.4609375,
          755.71533203125,
          755.71533203125
         ],
         "xaxis": "x",
         "y": [
          3.3647650645415403,
          6.813667231464727,
          6.813667231464727,
          5.87130381286984
         ],
         "yaxis": "y"
        }
       ],
       "layout": {
        "autosize": false,
        "height": 500,
        "hovermode": "closest",
        "showlegend": false,
        "template": {
         "data": {
          "bar": [
           {
            "error_x": {
             "color": "#2a3f5f"
            },
            "error_y": {
             "color": "#2a3f5f"
            },
            "marker": {
             "line": {
              "color": "#E5ECF6",
              "width": 0.5
             },
             "pattern": {
              "fillmode": "overlay",
              "size": 10,
              "solidity": 0.2
             }
            },
            "type": "bar"
           }
          ],
          "barpolar": [
           {
            "marker": {
             "line": {
              "color": "#E5ECF6",
              "width": 0.5
             },
             "pattern": {
              "fillmode": "overlay",
              "size": 10,
              "solidity": 0.2
             }
            },
            "type": "barpolar"
           }
          ],
          "carpet": [
           {
            "aaxis": {
             "endlinecolor": "#2a3f5f",
             "gridcolor": "white",
             "linecolor": "white",
             "minorgridcolor": "white",
             "startlinecolor": "#2a3f5f"
            },
            "baxis": {
             "endlinecolor": "#2a3f5f",
             "gridcolor": "white",
             "linecolor": "white",
             "minorgridcolor": "white",
             "startlinecolor": "#2a3f5f"
            },
            "type": "carpet"
           }
          ],
          "choropleth": [
           {
            "colorbar": {
             "outlinewidth": 0,
             "ticks": ""
            },
            "type": "choropleth"
           }
          ],
          "contour": [
           {
            "colorbar": {
             "outlinewidth": 0,
             "ticks": ""
            },
            "colorscale": [
             [
              0,
              "#0d0887"
             ],
             [
              0.1111111111111111,
              "#46039f"
             ],
             [
              0.2222222222222222,
              "#7201a8"
             ],
             [
              0.3333333333333333,
              "#9c179e"
             ],
             [
              0.4444444444444444,
              "#bd3786"
             ],
             [
              0.5555555555555556,
              "#d8576b"
             ],
             [
              0.6666666666666666,
              "#ed7953"
             ],
             [
              0.7777777777777778,
              "#fb9f3a"
             ],
             [
              0.8888888888888888,
              "#fdca26"
             ],
             [
              1,
              "#f0f921"
             ]
            ],
            "type": "contour"
           }
          ],
          "contourcarpet": [
           {
            "colorbar": {
             "outlinewidth": 0,
             "ticks": ""
            },
            "type": "contourcarpet"
           }
          ],
          "heatmap": [
           {
            "colorbar": {
             "outlinewidth": 0,
             "ticks": ""
            },
            "colorscale": [
             [
              0,
              "#0d0887"
             ],
             [
              0.1111111111111111,
              "#46039f"
             ],
             [
              0.2222222222222222,
              "#7201a8"
             ],
             [
              0.3333333333333333,
              "#9c179e"
             ],
             [
              0.4444444444444444,
              "#bd3786"
             ],
             [
              0.5555555555555556,
              "#d8576b"
             ],
             [
              0.6666666666666666,
              "#ed7953"
             ],
             [
              0.7777777777777778,
              "#fb9f3a"
             ],
             [
              0.8888888888888888,
              "#fdca26"
             ],
             [
              1,
              "#f0f921"
             ]
            ],
            "type": "heatmap"
           }
          ],
          "heatmapgl": [
           {
            "colorbar": {
             "outlinewidth": 0,
             "ticks": ""
            },
            "colorscale": [
             [
              0,
              "#0d0887"
             ],
             [
              0.1111111111111111,
              "#46039f"
             ],
             [
              0.2222222222222222,
              "#7201a8"
             ],
             [
              0.3333333333333333,
              "#9c179e"
             ],
             [
              0.4444444444444444,
              "#bd3786"
             ],
             [
              0.5555555555555556,
              "#d8576b"
             ],
             [
              0.6666666666666666,
              "#ed7953"
             ],
             [
              0.7777777777777778,
              "#fb9f3a"
             ],
             [
              0.8888888888888888,
              "#fdca26"
             ],
             [
              1,
              "#f0f921"
             ]
            ],
            "type": "heatmapgl"
           }
          ],
          "histogram": [
           {
            "marker": {
             "pattern": {
              "fillmode": "overlay",
              "size": 10,
              "solidity": 0.2
             }
            },
            "type": "histogram"
           }
          ],
          "histogram2d": [
           {
            "colorbar": {
             "outlinewidth": 0,
             "ticks": ""
            },
            "colorscale": [
             [
              0,
              "#0d0887"
             ],
             [
              0.1111111111111111,
              "#46039f"
             ],
             [
              0.2222222222222222,
              "#7201a8"
             ],
             [
              0.3333333333333333,
              "#9c179e"
             ],
             [
              0.4444444444444444,
              "#bd3786"
             ],
             [
              0.5555555555555556,
              "#d8576b"
             ],
             [
              0.6666666666666666,
              "#ed7953"
             ],
             [
              0.7777777777777778,
              "#fb9f3a"
             ],
             [
              0.8888888888888888,
              "#fdca26"
             ],
             [
              1,
              "#f0f921"
             ]
            ],
            "type": "histogram2d"
           }
          ],
          "histogram2dcontour": [
           {
            "colorbar": {
             "outlinewidth": 0,
             "ticks": ""
            },
            "colorscale": [
             [
              0,
              "#0d0887"
             ],
             [
              0.1111111111111111,
              "#46039f"
             ],
             [
              0.2222222222222222,
              "#7201a8"
             ],
             [
              0.3333333333333333,
              "#9c179e"
             ],
             [
              0.4444444444444444,
              "#bd3786"
             ],
             [
              0.5555555555555556,
              "#d8576b"
             ],
             [
              0.6666666666666666,
              "#ed7953"
             ],
             [
              0.7777777777777778,
              "#fb9f3a"
             ],
             [
              0.8888888888888888,
              "#fdca26"
             ],
             [
              1,
              "#f0f921"
             ]
            ],
            "type": "histogram2dcontour"
           }
          ],
          "mesh3d": [
           {
            "colorbar": {
             "outlinewidth": 0,
             "ticks": ""
            },
            "type": "mesh3d"
           }
          ],
          "parcoords": [
           {
            "line": {
             "colorbar": {
              "outlinewidth": 0,
              "ticks": ""
             }
            },
            "type": "parcoords"
           }
          ],
          "pie": [
           {
            "automargin": true,
            "type": "pie"
           }
          ],
          "scatter": [
           {
            "fillpattern": {
             "fillmode": "overlay",
             "size": 10,
             "solidity": 0.2
            },
            "type": "scatter"
           }
          ],
          "scatter3d": [
           {
            "line": {
             "colorbar": {
              "outlinewidth": 0,
              "ticks": ""
             }
            },
            "marker": {
             "colorbar": {
              "outlinewidth": 0,
              "ticks": ""
             }
            },
            "type": "scatter3d"
           }
          ],
          "scattercarpet": [
           {
            "marker": {
             "colorbar": {
              "outlinewidth": 0,
              "ticks": ""
             }
            },
            "type": "scattercarpet"
           }
          ],
          "scattergeo": [
           {
            "marker": {
             "colorbar": {
              "outlinewidth": 0,
              "ticks": ""
             }
            },
            "type": "scattergeo"
           }
          ],
          "scattergl": [
           {
            "marker": {
             "colorbar": {
              "outlinewidth": 0,
              "ticks": ""
             }
            },
            "type": "scattergl"
           }
          ],
          "scattermapbox": [
           {
            "marker": {
             "colorbar": {
              "outlinewidth": 0,
              "ticks": ""
             }
            },
            "type": "scattermapbox"
           }
          ],
          "scatterpolar": [
           {
            "marker": {
             "colorbar": {
              "outlinewidth": 0,
              "ticks": ""
             }
            },
            "type": "scatterpolar"
           }
          ],
          "scatterpolargl": [
           {
            "marker": {
             "colorbar": {
              "outlinewidth": 0,
              "ticks": ""
             }
            },
            "type": "scatterpolargl"
           }
          ],
          "scatterternary": [
           {
            "marker": {
             "colorbar": {
              "outlinewidth": 0,
              "ticks": ""
             }
            },
            "type": "scatterternary"
           }
          ],
          "surface": [
           {
            "colorbar": {
             "outlinewidth": 0,
             "ticks": ""
            },
            "colorscale": [
             [
              0,
              "#0d0887"
             ],
             [
              0.1111111111111111,
              "#46039f"
             ],
             [
              0.2222222222222222,
              "#7201a8"
             ],
             [
              0.3333333333333333,
              "#9c179e"
             ],
             [
              0.4444444444444444,
              "#bd3786"
             ],
             [
              0.5555555555555556,
              "#d8576b"
             ],
             [
              0.6666666666666666,
              "#ed7953"
             ],
             [
              0.7777777777777778,
              "#fb9f3a"
             ],
             [
              0.8888888888888888,
              "#fdca26"
             ],
             [
              1,
              "#f0f921"
             ]
            ],
            "type": "surface"
           }
          ],
          "table": [
           {
            "cells": {
             "fill": {
              "color": "#EBF0F8"
             },
             "line": {
              "color": "white"
             }
            },
            "header": {
             "fill": {
              "color": "#C8D4E3"
             },
             "line": {
              "color": "white"
             }
            },
            "type": "table"
           }
          ]
         },
         "layout": {
          "annotationdefaults": {
           "arrowcolor": "#2a3f5f",
           "arrowhead": 0,
           "arrowwidth": 1
          },
          "autotypenumbers": "strict",
          "coloraxis": {
           "colorbar": {
            "outlinewidth": 0,
            "ticks": ""
           }
          },
          "colorscale": {
           "diverging": [
            [
             0,
             "#8e0152"
            ],
            [
             0.1,
             "#c51b7d"
            ],
            [
             0.2,
             "#de77ae"
            ],
            [
             0.3,
             "#f1b6da"
            ],
            [
             0.4,
             "#fde0ef"
            ],
            [
             0.5,
             "#f7f7f7"
            ],
            [
             0.6,
             "#e6f5d0"
            ],
            [
             0.7,
             "#b8e186"
            ],
            [
             0.8,
             "#7fbc41"
            ],
            [
             0.9,
             "#4d9221"
            ],
            [
             1,
             "#276419"
            ]
           ],
           "sequential": [
            [
             0,
             "#0d0887"
            ],
            [
             0.1111111111111111,
             "#46039f"
            ],
            [
             0.2222222222222222,
             "#7201a8"
            ],
            [
             0.3333333333333333,
             "#9c179e"
            ],
            [
             0.4444444444444444,
             "#bd3786"
            ],
            [
             0.5555555555555556,
             "#d8576b"
            ],
            [
             0.6666666666666666,
             "#ed7953"
            ],
            [
             0.7777777777777778,
             "#fb9f3a"
            ],
            [
             0.8888888888888888,
             "#fdca26"
            ],
            [
             1,
             "#f0f921"
            ]
           ],
           "sequentialminus": [
            [
             0,
             "#0d0887"
            ],
            [
             0.1111111111111111,
             "#46039f"
            ],
            [
             0.2222222222222222,
             "#7201a8"
            ],
            [
             0.3333333333333333,
             "#9c179e"
            ],
            [
             0.4444444444444444,
             "#bd3786"
            ],
            [
             0.5555555555555556,
             "#d8576b"
            ],
            [
             0.6666666666666666,
             "#ed7953"
            ],
            [
             0.7777777777777778,
             "#fb9f3a"
            ],
            [
             0.8888888888888888,
             "#fdca26"
            ],
            [
             1,
             "#f0f921"
            ]
           ]
          },
          "colorway": [
           "#636efa",
           "#EF553B",
           "#00cc96",
           "#ab63fa",
           "#FFA15A",
           "#19d3f3",
           "#FF6692",
           "#B6E880",
           "#FF97FF",
           "#FECB52"
          ],
          "font": {
           "color": "#2a3f5f"
          },
          "geo": {
           "bgcolor": "white",
           "lakecolor": "white",
           "landcolor": "#E5ECF6",
           "showlakes": true,
           "showland": true,
           "subunitcolor": "white"
          },
          "hoverlabel": {
           "align": "left"
          },
          "hovermode": "closest",
          "mapbox": {
           "style": "light"
          },
          "paper_bgcolor": "white",
          "plot_bgcolor": "#E5ECF6",
          "polar": {
           "angularaxis": {
            "gridcolor": "white",
            "linecolor": "white",
            "ticks": ""
           },
           "bgcolor": "#E5ECF6",
           "radialaxis": {
            "gridcolor": "white",
            "linecolor": "white",
            "ticks": ""
           }
          },
          "scene": {
           "xaxis": {
            "backgroundcolor": "#E5ECF6",
            "gridcolor": "white",
            "gridwidth": 2,
            "linecolor": "white",
            "showbackground": true,
            "ticks": "",
            "zerolinecolor": "white"
           },
           "yaxis": {
            "backgroundcolor": "#E5ECF6",
            "gridcolor": "white",
            "gridwidth": 2,
            "linecolor": "white",
            "showbackground": true,
            "ticks": "",
            "zerolinecolor": "white"
           },
           "zaxis": {
            "backgroundcolor": "#E5ECF6",
            "gridcolor": "white",
            "gridwidth": 2,
            "linecolor": "white",
            "showbackground": true,
            "ticks": "",
            "zerolinecolor": "white"
           }
          },
          "shapedefaults": {
           "line": {
            "color": "#2a3f5f"
           }
          },
          "ternary": {
           "aaxis": {
            "gridcolor": "white",
            "linecolor": "white",
            "ticks": ""
           },
           "baxis": {
            "gridcolor": "white",
            "linecolor": "white",
            "ticks": ""
           },
           "bgcolor": "#E5ECF6",
           "caxis": {
            "gridcolor": "white",
            "linecolor": "white",
            "ticks": ""
           }
          },
          "title": {
           "x": 0.05
          },
          "xaxis": {
           "automargin": true,
           "gridcolor": "white",
           "linecolor": "white",
           "ticks": "",
           "title": {
            "standoff": 15
           },
           "zerolinecolor": "white",
           "zerolinewidth": 2
          },
          "yaxis": {
           "automargin": true,
           "gridcolor": "white",
           "linecolor": "white",
           "ticks": "",
           "title": {
            "standoff": 15
           },
           "zerolinecolor": "white",
           "zerolinewidth": 2
          }
         }
        },
        "width": 800,
        "xaxis": {
         "mirror": "allticks",
         "rangemode": "tozero",
         "showgrid": false,
         "showline": true,
         "showticklabels": true,
         "tickmode": "array",
         "ticks": "outside",
         "ticktext": [
          "108",
          "111",
          "128",
          "132",
          "118",
          "130",
          "102",
          "107",
          "122",
          "105",
          "135",
          "109",
          "117",
          "131",
          "50",
          "52",
          "110",
          "115",
          "148",
          "124",
          "136",
          "100",
          "120",
          "143",
          "125",
          "144",
          "104",
          "112",
          "145",
          "140",
          "129",
          "139",
          "141",
          "56",
          "85",
          "76",
          "103",
          "116",
          "147",
          "77",
          "137",
          "75",
          "127",
          "86",
          "70",
          "51",
          "65",
          "15",
          "32",
          "14",
          "33",
          "19",
          "46",
          "21",
          "48",
          "10",
          "44",
          "18",
          "5",
          "16",
          "22",
          "4",
          "0",
          "40",
          "17",
          "27",
          "36",
          "31",
          "20",
          "43",
          "23",
          "26",
          "28",
          "39",
          "35",
          "49",
          "6",
          "11",
          "7",
          "24",
          "41",
          "8",
          "13",
          "38",
          "42",
          "29",
          "2",
          "47",
          "25",
          "1",
          "45",
          "30",
          "37",
          "9",
          "34",
          "3",
          "12",
          "60",
          "98",
          "57",
          "93",
          "106",
          "53",
          "62",
          "80",
          "81",
          "69",
          "89",
          "87",
          "68",
          "119",
          "146",
          "72",
          "113",
          "114",
          "123",
          "83",
          "121",
          "134",
          "101",
          "142",
          "55",
          "99",
          "94",
          "67",
          "82",
          "59",
          "79",
          "90",
          "92",
          "149",
          "58",
          "138",
          "54",
          "126",
          "133",
          "64",
          "88",
          "95",
          "84",
          "96",
          "71",
          "73",
          "61",
          "66",
          "74",
          "91",
          "97",
          "63",
          "78"
         ],
         "tickvals": [
          5,
          15,
          25,
          35,
          45,
          55,
          65,
          75,
          85,
          95,
          105,
          115,
          125,
          135,
          145,
          155,
          165,
          175,
          185,
          195,
          205,
          215,
          225,
          235,
          245,
          255,
          265,
          275,
          285,
          295,
          305,
          315,
          325,
          335,
          345,
          355,
          365,
          375,
          385,
          395,
          405,
          415,
          425,
          435,
          445,
          455,
          465,
          475,
          485,
          495,
          505,
          515,
          525,
          535,
          545,
          555,
          565,
          575,
          585,
          595,
          605,
          615,
          625,
          635,
          645,
          655,
          665,
          675,
          685,
          695,
          705,
          715,
          725,
          735,
          745,
          755,
          765,
          775,
          785,
          795,
          805,
          815,
          825,
          835,
          845,
          855,
          865,
          875,
          885,
          895,
          905,
          915,
          925,
          935,
          945,
          955,
          965,
          975,
          985,
          995,
          1005,
          1015,
          1025,
          1035,
          1045,
          1055,
          1065,
          1075,
          1085,
          1095,
          1105,
          1115,
          1125,
          1135,
          1145,
          1155,
          1165,
          1175,
          1185,
          1195,
          1205,
          1215,
          1225,
          1235,
          1245,
          1255,
          1265,
          1275,
          1285,
          1295,
          1305,
          1315,
          1325,
          1335,
          1345,
          1355,
          1365,
          1375,
          1385,
          1395,
          1405,
          1415,
          1425,
          1435,
          1445,
          1455,
          1465,
          1475,
          1485,
          1495
         ],
         "type": "linear",
         "zeroline": false
        },
        "yaxis": {
         "mirror": "allticks",
         "rangemode": "tozero",
         "showgrid": false,
         "showline": true,
         "showticklabels": true,
         "ticks": "outside",
         "type": "linear",
         "zeroline": false
        }
       }
      }
     },
     "metadata": {},
     "output_type": "display_data"
    }
   ],
   "source": [
    "# Create the dendrogram\n",
    "fig = ff.create_dendrogram(df_iris_pca, color_threshold=0)\n",
    "fig.update_layout(width=800, height=500)\n",
    "fig.show()\n"
   ]
  },
  {
   "cell_type": "code",
   "execution_count": 25,
   "metadata": {},
   "outputs": [],
   "source": [
    "agg = AgglomerativeClustering(n_clusters=3)\n",
    "model = agg.fit(df_iris_pca)\n"
   ]
  },
  {
   "cell_type": "code",
   "execution_count": 26,
   "metadata": {},
   "outputs": [
    {
     "data": {
      "text/html": [
       "<div>\n",
       "<style scoped>\n",
       "    .dataframe tbody tr th:only-of-type {\n",
       "        vertical-align: middle;\n",
       "    }\n",
       "\n",
       "    .dataframe tbody tr th {\n",
       "        vertical-align: top;\n",
       "    }\n",
       "\n",
       "    .dataframe thead th {\n",
       "        text-align: right;\n",
       "    }\n",
       "</style>\n",
       "<table border=\"1\" class=\"dataframe\">\n",
       "  <thead>\n",
       "    <tr style=\"text-align: right;\">\n",
       "      <th></th>\n",
       "      <th>principal component 1</th>\n",
       "      <th>principal component 2</th>\n",
       "      <th>class</th>\n",
       "    </tr>\n",
       "  </thead>\n",
       "  <tbody>\n",
       "    <tr>\n",
       "      <th>0</th>\n",
       "      <td>-2.264542</td>\n",
       "      <td>0.505704</td>\n",
       "      <td>0</td>\n",
       "    </tr>\n",
       "    <tr>\n",
       "      <th>1</th>\n",
       "      <td>-2.086426</td>\n",
       "      <td>-0.655405</td>\n",
       "      <td>0</td>\n",
       "    </tr>\n",
       "    <tr>\n",
       "      <th>2</th>\n",
       "      <td>-2.367950</td>\n",
       "      <td>-0.318477</td>\n",
       "      <td>0</td>\n",
       "    </tr>\n",
       "    <tr>\n",
       "      <th>3</th>\n",
       "      <td>-2.304197</td>\n",
       "      <td>-0.575368</td>\n",
       "      <td>0</td>\n",
       "    </tr>\n",
       "    <tr>\n",
       "      <th>4</th>\n",
       "      <td>-2.388777</td>\n",
       "      <td>0.674767</td>\n",
       "      <td>0</td>\n",
       "    </tr>\n",
       "  </tbody>\n",
       "</table>\n",
       "</div>"
      ],
      "text/plain": [
       "   principal component 1  principal component 2  class\n",
       "0              -2.264542               0.505704      0\n",
       "1              -2.086426              -0.655405      0\n",
       "2              -2.367950              -0.318477      0\n",
       "3              -2.304197              -0.575368      0\n",
       "4              -2.388777               0.674767      0"
      ]
     },
     "execution_count": 26,
     "metadata": {},
     "output_type": "execute_result"
    }
   ],
   "source": [
    "# ADD a new class column to df_iris\n",
    "df_iris_pca[\"class\"] = model.labels_\n",
    "\n",
    "df_iris_pca.head()"
   ]
  },
  {
   "cell_type": "code",
   "execution_count": 27,
   "metadata": {},
   "outputs": [
    {
     "data": {},
     "metadata": {},
     "output_type": "display_data"
    },
    {
     "data": {
      "application/vnd.holoviews_exec.v0+json": "",
      "text/html": [
       "<div id='1854'>\n",
       "\n",
       "\n",
       "\n",
       "\n",
       "\n",
       "  <div class=\"bk-root\" id=\"bca33eac-9a10-4015-907b-f30cef14f973\" data-root-id=\"1854\"></div>\n",
       "</div>\n",
       "<script type=\"application/javascript\">(function(root) {\n",
       "  function embed_document(root) {\n",
       "    var docs_json = {\"c26ce975-440c-44bb-b866-60b7febbf1ae\":{\"defs\":[{\"extends\":null,\"module\":null,\"name\":\"ReactiveHTML1\",\"overrides\":[],\"properties\":[]},{\"extends\":null,\"module\":null,\"name\":\"FlexBox1\",\"overrides\":[],\"properties\":[{\"default\":\"flex-start\",\"kind\":null,\"name\":\"align_content\"},{\"default\":\"flex-start\",\"kind\":null,\"name\":\"align_items\"},{\"default\":\"row\",\"kind\":null,\"name\":\"flex_direction\"},{\"default\":\"wrap\",\"kind\":null,\"name\":\"flex_wrap\"},{\"default\":\"flex-start\",\"kind\":null,\"name\":\"justify_content\"}]},{\"extends\":null,\"module\":null,\"name\":\"GridStack1\",\"overrides\":[],\"properties\":[{\"default\":\"warn\",\"kind\":null,\"name\":\"mode\"},{\"default\":null,\"kind\":null,\"name\":\"ncols\"},{\"default\":null,\"kind\":null,\"name\":\"nrows\"},{\"default\":true,\"kind\":null,\"name\":\"allow_resize\"},{\"default\":true,\"kind\":null,\"name\":\"allow_drag\"},{\"default\":[],\"kind\":null,\"name\":\"state\"}]},{\"extends\":null,\"module\":null,\"name\":\"click1\",\"overrides\":[],\"properties\":[{\"default\":\"\",\"kind\":null,\"name\":\"terminal_output\"},{\"default\":\"\",\"kind\":null,\"name\":\"debug_name\"},{\"default\":0,\"kind\":null,\"name\":\"clears\"}]},{\"extends\":null,\"module\":null,\"name\":\"TemplateActions1\",\"overrides\":[],\"properties\":[{\"default\":0,\"kind\":null,\"name\":\"open_modal\"},{\"default\":0,\"kind\":null,\"name\":\"close_modal\"}]},{\"extends\":null,\"module\":null,\"name\":\"MaterialTemplateActions1\",\"overrides\":[],\"properties\":[{\"default\":0,\"kind\":null,\"name\":\"open_modal\"},{\"default\":0,\"kind\":null,\"name\":\"close_modal\"}]}],\"roots\":{\"references\":[{\"attributes\":{\"fill_alpha\":{\"value\":0.1},\"fill_color\":{\"value\":\"#30a2da\"},\"hatch_alpha\":{\"value\":0.1},\"hatch_color\":{\"value\":\"#30a2da\"},\"line_alpha\":{\"value\":0.1},\"line_color\":{\"value\":\"#30a2da\"},\"size\":{\"value\":5.477225575051661},\"x\":{\"field\":\"principal component 1\"},\"y\":{\"field\":\"principal component 2\"}},\"id\":\"1901\",\"type\":\"Scatter\"},{\"attributes\":{},\"id\":\"1878\",\"type\":\"SaveTool\"},{\"attributes\":{\"label\":{\"value\":\"1\"},\"renderers\":[{\"id\":\"1924\"}]},\"id\":\"1938\",\"type\":\"LegendItem\"},{\"attributes\":{\"axis_label\":\"principal component 2\",\"coordinates\":null,\"formatter\":{\"id\":\"1895\"},\"group\":null,\"major_label_policy\":{\"id\":\"1896\"},\"ticker\":{\"id\":\"1875\"}},\"id\":\"1874\",\"type\":\"LinearAxis\"},{\"attributes\":{\"source\":{\"id\":\"1940\"}},\"id\":\"1947\",\"type\":\"CDSView\"},{\"attributes\":{},\"id\":\"1879\",\"type\":\"PanTool\"},{\"attributes\":{\"coordinates\":null,\"data_source\":{\"id\":\"1918\"},\"glyph\":{\"id\":\"1921\"},\"group\":null,\"hover_glyph\":null,\"muted_glyph\":{\"id\":\"1923\"},\"nonselection_glyph\":{\"id\":\"1922\"},\"selection_glyph\":{\"id\":\"1939\"},\"view\":{\"id\":\"1925\"}},\"id\":\"1924\",\"type\":\"GlyphRenderer\"},{\"attributes\":{\"axis_label\":\"principal component 1\",\"coordinates\":null,\"formatter\":{\"id\":\"1892\"},\"group\":null,\"major_label_policy\":{\"id\":\"1893\"},\"ticker\":{\"id\":\"1871\"}},\"id\":\"1870\",\"type\":\"LinearAxis\"},{\"attributes\":{},\"id\":\"1882\",\"type\":\"ResetTool\"},{\"attributes\":{\"label\":{\"value\":\"0\"},\"renderers\":[{\"id\":\"1903\"}]},\"id\":\"1916\",\"type\":\"LegendItem\"},{\"attributes\":{\"data\":{\"class\":[1,1,1,1,1,1,1,1,1,1,1,1,1,1,1,1,1,1,1,1,1,1,1,1,1,1,1,1,1,1,1,1,1,1,1,1,1,1,1,1,1,1,1,1,1,1,1,1,1,1,1,1,1],\"principal component 1\":{\"__ndarray__\":\"gRWMhntt2T9KnJZFWCnxP2uBHlf2mtg/7P4dZv7c379vGywXnaPtPxfCkDZaWXQ/792FPizsv7+wz+h8JxTcP1ZNsk78puE/O0UqJwTz5j+vz63ghxOjv51u06S8RdY/5rIv7V2iwz9n6iTH4XHzPzDYZACmFsQ/Wa1SDE473j8RyjX41qXzP4sxy7fjI+Q/HNCK7kVq5j8fhVUnIzDlP9Qb1FJINai/VD98rN0cvz9ekFg5BOqMPyLf6GWaNc4/D81ZRTXo8D+ssJMoZVfMP9Cbvwf1kvA/wF4TnFcrsT93NwN1kKDRP8t9yQ7wbdE/pY3+VwPx4z+33kvRzh7VP8TEFNWD6de/2iTllsIb0j83X21EL8y2PwgkQhu5t8w/8gRG5kBd4j/cjFDrsj/dv+KA0gDGJNA/4F8IKHdz8j//oUp+m+/WP1z35HGkDPQ/HeKIxsts9z/9RPpdThD0P49itwdQKu8/9YqkmmBE9T9jfP3wHsDyP9/2a9zEx/E/KTazatUo8z+ZvvFQw4ztP+BfCCh3c/I/SdVbMZXv+D872SvtkrLuPw==\",\"dtype\":\"float64\",\"order\":\"little\",\"shape\":[53]},\"principal component 2\":{\"__ndarray__\":\"kc0hw3Uh/L99AFcJ4hrLv/IVlNb76eK/ZZSza/eU/b+UjGFUCw+fP+rLA01tePC/84KEXbZDBcDM9gYTsCWuv0fNqHx+XPy/2nstxk+8x78xLLY26rLbvxy+JkVKZsi/lInUeJ9N6b9h5T6HOSL6v75Ai9CC2fS/sgipiLWp2r9Cr8dW+Rvuv+bFU70Krdq/9DbCViNBsL9nGdg+X7fMv2cFEZBX6vC/a8J8cXkE+b9s1i92nSz5v0KekB1e1Oi/EC0SzX5h5L+Hbj2aaPnRv7mLs++KR/a/l8do/yc3y78+ZwsN7Ub1vycJ/oM76fG/x8Ud1SI0nD9o68QlE6Xvv8/C5Ku5JADApks7dJBT67+yjkY+Z2PGv1P2R1TcWdi/eDq1mhitw7+3+86JpaH4v6Z6HI5KEeO/UghbdkNx5r9Dlg29Jfb4v5QxaImirfK/uK9g7els3L9RKnQyOXv7v0vNWXwPR+K/RGwdsBUn37/H2YlbzWjUv/2TgLFv8dK/Ta/b9jwm6r/o/1pSILGTP1IIW3ZDcea/wFrVOlT47L/vCiw2mtGWvw==\",\"dtype\":\"float64\",\"order\":\"little\",\"shape\":[53]},\"principal_component_1\":{\"__ndarray__\":\"gRWMhntt2T9KnJZFWCnxP2uBHlf2mtg/7P4dZv7c379vGywXnaPtPxfCkDZaWXQ/792FPizsv7+wz+h8JxTcP1ZNsk78puE/O0UqJwTz5j+vz63ghxOjv51u06S8RdY/5rIv7V2iwz9n6iTH4XHzPzDYZACmFsQ/Wa1SDE473j8RyjX41qXzP4sxy7fjI+Q/HNCK7kVq5j8fhVUnIzDlP9Qb1FJINai/VD98rN0cvz9ekFg5BOqMPyLf6GWaNc4/D81ZRTXo8D+ssJMoZVfMP9Cbvwf1kvA/wF4TnFcrsT93NwN1kKDRP8t9yQ7wbdE/pY3+VwPx4z+33kvRzh7VP8TEFNWD6de/2iTllsIb0j83X21EL8y2PwgkQhu5t8w/8gRG5kBd4j/cjFDrsj/dv+KA0gDGJNA/4F8IKHdz8j//oUp+m+/WP1z35HGkDPQ/HeKIxsts9z/9RPpdThD0P49itwdQKu8/9YqkmmBE9T9jfP3wHsDyP9/2a9zEx/E/KTazatUo8z+ZvvFQw4ztP+BfCCh3c/I/SdVbMZXv+D872SvtkrLuPw==\",\"dtype\":\"float64\",\"order\":\"little\",\"shape\":[53]},\"principal_component_2\":{\"__ndarray__\":\"kc0hw3Uh/L99AFcJ4hrLv/IVlNb76eK/ZZSza/eU/b+UjGFUCw+fP+rLA01tePC/84KEXbZDBcDM9gYTsCWuv0fNqHx+XPy/2nstxk+8x78xLLY26rLbvxy+JkVKZsi/lInUeJ9N6b9h5T6HOSL6v75Ai9CC2fS/sgipiLWp2r9Cr8dW+Rvuv+bFU70Krdq/9DbCViNBsL9nGdg+X7fMv2cFEZBX6vC/a8J8cXkE+b9s1i92nSz5v0KekB1e1Oi/EC0SzX5h5L+Hbj2aaPnRv7mLs++KR/a/l8do/yc3y78+ZwsN7Ub1vycJ/oM76fG/x8Ud1SI0nD9o68QlE6Xvv8/C5Ku5JADApks7dJBT67+yjkY+Z2PGv1P2R1TcWdi/eDq1mhitw7+3+86JpaH4v6Z6HI5KEeO/UghbdkNx5r9Dlg29Jfb4v5QxaImirfK/uK9g7els3L9RKnQyOXv7v0vNWXwPR+K/RGwdsBUn37/H2YlbzWjUv/2TgLFv8dK/Ta/b9jwm6r/o/1pSILGTP1IIW3ZDcea/wFrVOlT47L/vCiw2mtGWvw==\",\"dtype\":\"float64\",\"order\":\"little\",\"shape\":[53]}},\"selected\":{\"id\":\"1919\"},\"selection_policy\":{\"id\":\"1935\"}},\"id\":\"1918\",\"type\":\"ColumnDataSource\"},{\"attributes\":{},\"id\":\"1880\",\"type\":\"WheelZoomTool\"},{\"attributes\":{},\"id\":\"1912\",\"type\":\"UnionRenderers\"},{\"attributes\":{},\"id\":\"1866\",\"type\":\"LinearScale\"},{\"attributes\":{\"fill_alpha\":{\"value\":0.1},\"fill_color\":{\"value\":\"#e5ae38\"},\"hatch_alpha\":{\"value\":0.1},\"hatch_color\":{\"value\":\"#e5ae38\"},\"line_alpha\":{\"value\":0.1},\"line_color\":{\"value\":\"#e5ae38\"},\"size\":{\"value\":5.477225575051661},\"x\":{\"field\":\"principal component 1\"},\"y\":{\"field\":\"principal component 2\"}},\"id\":\"1944\",\"type\":\"Scatter\"},{\"attributes\":{\"overlay\":{\"id\":\"1883\"}},\"id\":\"1881\",\"type\":\"BoxZoomTool\"},{\"attributes\":{\"axis\":{\"id\":\"1874\"},\"coordinates\":null,\"dimension\":1,\"grid_line_color\":null,\"group\":null,\"ticker\":null},\"id\":\"1877\",\"type\":\"Grid\"},{\"attributes\":{\"angle\":{\"value\":0.0},\"fill_alpha\":{\"value\":1.0},\"fill_color\":{\"value\":\"#fc4f30\"},\"hatch_alpha\":{\"value\":1.0},\"hatch_color\":{\"value\":\"#fc4f30\"},\"hatch_scale\":{\"value\":12.0},\"hatch_weight\":{\"value\":1.0},\"line_alpha\":{\"value\":1.0},\"line_cap\":{\"value\":\"butt\"},\"line_color\":{\"value\":\"#fc4f30\"},\"line_dash\":{\"value\":[]},\"line_dash_offset\":{\"value\":0},\"line_join\":{\"value\":\"bevel\"},\"line_width\":{\"value\":1},\"marker\":{\"value\":\"circle\"},\"size\":{\"value\":5.477225575051661},\"x\":{\"field\":\"principal component 1\"},\"y\":{\"field\":\"principal component 2\"}},\"id\":\"1939\",\"type\":\"Scatter\"},{\"attributes\":{},\"id\":\"1959\",\"type\":\"UnionRenderers\"},{\"attributes\":{\"click_policy\":\"mute\",\"coordinates\":null,\"group\":null,\"items\":[{\"id\":\"1916\"},{\"id\":\"1938\"},{\"id\":\"1962\"}],\"location\":[0,0],\"title\":\"class\"},\"id\":\"1915\",\"type\":\"Legend\"},{\"attributes\":{},\"id\":\"1875\",\"type\":\"BasicTicker\"},{\"attributes\":{},\"id\":\"1892\",\"type\":\"BasicTickFormatter\"},{\"attributes\":{\"source\":{\"id\":\"1918\"}},\"id\":\"1925\",\"type\":\"CDSView\"},{\"attributes\":{},\"id\":\"1941\",\"type\":\"Selection\"},{\"attributes\":{\"end\":3.2604144520280927,\"reset_end\":3.2604144520280927,\"reset_start\":-3.196106053415383,\"start\":-3.196106053415383,\"tags\":[[[\"principal component 2\",\"principal component 2\",null]]]},\"id\":\"1857\",\"type\":\"Range1d\"},{\"attributes\":{\"fill_color\":{\"value\":\"#e5ae38\"},\"hatch_color\":{\"value\":\"#e5ae38\"},\"line_color\":{\"value\":\"#e5ae38\"},\"size\":{\"value\":5.477225575051661},\"x\":{\"field\":\"principal component 1\"},\"y\":{\"field\":\"principal component 2\"}},\"id\":\"1943\",\"type\":\"Scatter\"},{\"attributes\":{},\"id\":\"1871\",\"type\":\"BasicTicker\"},{\"attributes\":{\"fill_color\":{\"value\":\"#30a2da\"},\"hatch_color\":{\"value\":\"#30a2da\"},\"line_color\":{\"value\":\"#30a2da\"},\"size\":{\"value\":5.477225575051661},\"x\":{\"field\":\"principal component 1\"},\"y\":{\"field\":\"principal component 2\"}},\"id\":\"1900\",\"type\":\"Scatter\"},{\"attributes\":{\"data\":{\"class\":[2,2,2,2,2,2,2,2,2,2,2,2,2,2,2,2,2,2,2,2,2,2,2,2,2,2,2,2,2,2,2,2,2,2,2,2,2,2,2,2,2,2,2,2,2,2,2],\"principal component 1\":{\"__ndarray__\":\"cZicP/Wp8T/qdLjqfHDnP0hUdjeu3/M/kH2nUXn15z99t9eWSwfsPwbqCkTLn+c/ZokX1wP06z/rYaNJSxH0PxZwyrRZu/U/YiqW1lWi2z+kboqoZcrwP2RoZCMRkP0/XaOtkJqmAUCwkwP82gT3P8Sof1zh4v0/c0K5SJgIBkDlZzhbjmwCQPUm68uNAwBAIU9oqvMjAkBti3vYw9r1P60QOb/Elfk/O66UReUl/j8Y0QQIDXj5P3odkBhdivc/QfYnSsB/A0AyhisDH3kKQJbn9rPvUgBAOC4taDwvB0BCqLnnkUT7P6gJnj3aUv8/H9Lu7wVR8D+g2hYHfpP8P38bVl0h1v0/ifhsDuZ7A0AxtjE3VocCQGstB9QUxP0/jk42KVhoBkCz+a/eUEj5P/DOTXR+jfU/PAUQICao/T8PDMQGFyEAQLlqwqkqc/4/Og5TGLJYAEC5eb2NdgMAQPHgNY2o7f0/+IJComFV+D8O9OTEsgX2Pw==\",\"dtype\":\"float64\",\"order\":\"little\",\"shape\":[47]},\"principal component 2\":{\"__ndarray__\":\"3Hb2/Z2e6z8bPDfKBSjjP9vNPSGgrOM/sl+rWRnr6D9mOXqk51HgP4dBqiETwtk/ZJ7yIJwL0D/oh7BClya1v0QteShkC9U/Cgg+Gkhd6z/Ck6QJ17XgP3ssy2Xw5Os/CcTpFji+4T+8lDOr+pqpv+lEGSLnotI/ogetLdY66T9UO0mDhTXaP7CQnq/nKee/vo2XATu+/j8yoQKF0jTmP2t9L85taNu/bKdDi22E2j8tfGgVRqrlPzE3rDJONNA/fzlsMT10BEBeiaQTDFhjvz90hSJpCe0/cJKR42l12T+QWt+y8znwP56AK36oDfA/Vqj7cmzHsD/wvEvBKb3Iv5PkXX2vxeE/217ipF+Szz8l4TWwbAIFQJuBO1NYo8e/Sys1XS0I6z+ij2oE2yjxPxj8A+M9Bts/vKTAq3yE5T/Y+zteX4jjP952Ilnq8+U/tyJfoH+r6z86eOdp3MbwP/hDMiongNg/eNtvjSkT0T8bLdG5BEPwPw==\",\"dtype\":\"float64\",\"order\":\"little\",\"shape\":[47]},\"principal_component_1\":{\"__ndarray__\":\"cZicP/Wp8T/qdLjqfHDnP0hUdjeu3/M/kH2nUXn15z99t9eWSwfsPwbqCkTLn+c/ZokX1wP06z/rYaNJSxH0PxZwyrRZu/U/YiqW1lWi2z+kboqoZcrwP2RoZCMRkP0/XaOtkJqmAUCwkwP82gT3P8Sof1zh4v0/c0K5SJgIBkDlZzhbjmwCQPUm68uNAwBAIU9oqvMjAkBti3vYw9r1P60QOb/Elfk/O66UReUl/j8Y0QQIDXj5P3odkBhdivc/QfYnSsB/A0AyhisDH3kKQJbn9rPvUgBAOC4taDwvB0BCqLnnkUT7P6gJnj3aUv8/H9Lu7wVR8D+g2hYHfpP8P38bVl0h1v0/ifhsDuZ7A0AxtjE3VocCQGstB9QUxP0/jk42KVhoBkCz+a/eUEj5P/DOTXR+jfU/PAUQICao/T8PDMQGFyEAQLlqwqkqc/4/Og5TGLJYAEC5eb2NdgMAQPHgNY2o7f0/+IJComFV+D8O9OTEsgX2Pw==\",\"dtype\":\"float64\",\"order\":\"little\",\"shape\":[47]},\"principal_component_2\":{\"__ndarray__\":\"3Hb2/Z2e6z8bPDfKBSjjP9vNPSGgrOM/sl+rWRnr6D9mOXqk51HgP4dBqiETwtk/ZJ7yIJwL0D/oh7BClya1v0QteShkC9U/Cgg+Gkhd6z/Ck6QJ17XgP3ssy2Xw5Os/CcTpFji+4T+8lDOr+pqpv+lEGSLnotI/ogetLdY66T9UO0mDhTXaP7CQnq/nKee/vo2XATu+/j8yoQKF0jTmP2t9L85taNu/bKdDi22E2j8tfGgVRqrlPzE3rDJONNA/fzlsMT10BEBeiaQTDFhjvz90hSJpCe0/cJKR42l12T+QWt+y8znwP56AK36oDfA/Vqj7cmzHsD/wvEvBKb3Iv5PkXX2vxeE/217ipF+Szz8l4TWwbAIFQJuBO1NYo8e/Sys1XS0I6z+ij2oE2yjxPxj8A+M9Bts/vKTAq3yE5T/Y+zteX4jjP952Ilnq8+U/tyJfoH+r6z86eOdp3MbwP/hDMiongNg/eNtvjSkT0T8bLdG5BEPwPw==\",\"dtype\":\"float64\",\"order\":\"little\",\"shape\":[47]}},\"selected\":{\"id\":\"1941\"},\"selection_policy\":{\"id\":\"1959\"}},\"id\":\"1940\",\"type\":\"ColumnDataSource\"},{\"attributes\":{},\"id\":\"1898\",\"type\":\"Selection\"},{\"attributes\":{\"tools\":[{\"id\":\"1858\"},{\"id\":\"1878\"},{\"id\":\"1879\"},{\"id\":\"1880\"},{\"id\":\"1881\"},{\"id\":\"1882\"}]},\"id\":\"1884\",\"type\":\"Toolbar\"},{\"attributes\":{\"source\":{\"id\":\"1897\"}},\"id\":\"1904\",\"type\":\"CDSView\"},{\"attributes\":{},\"id\":\"1893\",\"type\":\"AllLabels\"},{\"attributes\":{\"fill_color\":{\"value\":\"#fc4f30\"},\"hatch_color\":{\"value\":\"#fc4f30\"},\"line_color\":{\"value\":\"#fc4f30\"},\"size\":{\"value\":5.477225575051661},\"x\":{\"field\":\"principal component 1\"},\"y\":{\"field\":\"principal component 2\"}},\"id\":\"1921\",\"type\":\"Scatter\"},{\"attributes\":{\"below\":[{\"id\":\"1870\"}],\"center\":[{\"id\":\"1873\"},{\"id\":\"1877\"}],\"height\":300,\"left\":[{\"id\":\"1874\"}],\"margin\":[5,5,5,5],\"min_border_bottom\":10,\"min_border_left\":10,\"min_border_right\":10,\"min_border_top\":10,\"renderers\":[{\"id\":\"1903\"},{\"id\":\"1924\"},{\"id\":\"1946\"}],\"right\":[{\"id\":\"1915\"}],\"sizing_mode\":\"fixed\",\"title\":{\"id\":\"1862\"},\"toolbar\":{\"id\":\"1884\"},\"width\":700,\"x_range\":{\"id\":\"1856\"},\"x_scale\":{\"id\":\"1866\"},\"y_range\":{\"id\":\"1857\"},\"y_scale\":{\"id\":\"1868\"}},\"id\":\"1861\",\"subtype\":\"Figure\",\"type\":\"Plot\"},{\"attributes\":{\"fill_alpha\":{\"value\":0.1},\"fill_color\":{\"value\":\"#fc4f30\"},\"hatch_alpha\":{\"value\":0.1},\"hatch_color\":{\"value\":\"#fc4f30\"},\"line_alpha\":{\"value\":0.1},\"line_color\":{\"value\":\"#fc4f30\"},\"size\":{\"value\":5.477225575051661},\"x\":{\"field\":\"principal component 1\"},\"y\":{\"field\":\"principal component 2\"}},\"id\":\"1922\",\"type\":\"Scatter\"},{\"attributes\":{},\"id\":\"1895\",\"type\":\"BasicTickFormatter\"},{\"attributes\":{\"bottom_units\":\"screen\",\"coordinates\":null,\"fill_alpha\":0.5,\"fill_color\":\"lightgrey\",\"group\":null,\"left_units\":\"screen\",\"level\":\"overlay\",\"line_alpha\":1.0,\"line_color\":\"black\",\"line_dash\":[4,4],\"line_width\":2,\"right_units\":\"screen\",\"syncable\":false,\"top_units\":\"screen\"},\"id\":\"1883\",\"type\":\"BoxAnnotation\"},{\"attributes\":{},\"id\":\"1868\",\"type\":\"LinearScale\"},{\"attributes\":{\"fill_alpha\":{\"value\":0.2},\"fill_color\":{\"value\":\"#30a2da\"},\"hatch_alpha\":{\"value\":0.2},\"hatch_color\":{\"value\":\"#30a2da\"},\"line_alpha\":{\"value\":0.2},\"line_color\":{\"value\":\"#30a2da\"},\"size\":{\"value\":5.477225575051661},\"x\":{\"field\":\"principal component 1\"},\"y\":{\"field\":\"principal component 2\"}},\"id\":\"1902\",\"type\":\"Scatter\"},{\"attributes\":{\"coordinates\":null,\"data_source\":{\"id\":\"1940\"},\"glyph\":{\"id\":\"1943\"},\"group\":null,\"hover_glyph\":null,\"muted_glyph\":{\"id\":\"1945\"},\"nonselection_glyph\":{\"id\":\"1944\"},\"selection_glyph\":{\"id\":\"1963\"},\"view\":{\"id\":\"1947\"}},\"id\":\"1946\",\"type\":\"GlyphRenderer\"},{\"attributes\":{\"angle\":{\"value\":0.0},\"fill_alpha\":{\"value\":1.0},\"fill_color\":{\"value\":\"#30a2da\"},\"hatch_alpha\":{\"value\":1.0},\"hatch_color\":{\"value\":\"#30a2da\"},\"hatch_scale\":{\"value\":12.0},\"hatch_weight\":{\"value\":1.0},\"line_alpha\":{\"value\":1.0},\"line_cap\":{\"value\":\"butt\"},\"line_color\":{\"value\":\"#30a2da\"},\"line_dash\":{\"value\":[]},\"line_dash_offset\":{\"value\":0},\"line_join\":{\"value\":\"bevel\"},\"line_width\":{\"value\":1},\"marker\":{\"value\":\"circle\"},\"size\":{\"value\":5.477225575051661},\"x\":{\"field\":\"principal component 1\"},\"y\":{\"field\":\"principal component 2\"}},\"id\":\"1917\",\"type\":\"Scatter\"},{\"attributes\":{\"fill_alpha\":{\"value\":0.2},\"fill_color\":{\"value\":\"#fc4f30\"},\"hatch_alpha\":{\"value\":0.2},\"hatch_color\":{\"value\":\"#fc4f30\"},\"line_alpha\":{\"value\":0.2},\"line_color\":{\"value\":\"#fc4f30\"},\"size\":{\"value\":5.477225575051661},\"x\":{\"field\":\"principal component 1\"},\"y\":{\"field\":\"principal component 2\"}},\"id\":\"1923\",\"type\":\"Scatter\"},{\"attributes\":{},\"id\":\"1935\",\"type\":\"UnionRenderers\"},{\"attributes\":{\"coordinates\":null,\"group\":null,\"text_color\":\"black\",\"text_font_size\":\"12pt\"},\"id\":\"1862\",\"type\":\"Title\"},{\"attributes\":{\"angle\":{\"value\":0.0},\"fill_alpha\":{\"value\":1.0},\"fill_color\":{\"value\":\"#e5ae38\"},\"hatch_alpha\":{\"value\":1.0},\"hatch_color\":{\"value\":\"#e5ae38\"},\"hatch_scale\":{\"value\":12.0},\"hatch_weight\":{\"value\":1.0},\"line_alpha\":{\"value\":1.0},\"line_cap\":{\"value\":\"butt\"},\"line_color\":{\"value\":\"#e5ae38\"},\"line_dash\":{\"value\":[]},\"line_dash_offset\":{\"value\":0},\"line_join\":{\"value\":\"bevel\"},\"line_width\":{\"value\":1},\"marker\":{\"value\":\"circle\"},\"size\":{\"value\":5.477225575051661},\"x\":{\"field\":\"principal component 1\"},\"y\":{\"field\":\"principal component 2\"}},\"id\":\"1963\",\"type\":\"Scatter\"},{\"attributes\":{\"label\":{\"value\":\"2\"},\"renderers\":[{\"id\":\"1946\"}]},\"id\":\"1962\",\"type\":\"LegendItem\"},{\"attributes\":{\"data\":{\"class\":[0,0,0,0,0,0,0,0,0,0,0,0,0,0,0,0,0,0,0,0,0,0,0,0,0,0,0,0,0,0,0,0,0,0,0,0,0,0,0,0,0,0,0,0,0,0,0,0,0,0],\"principal component 1\":{\"__ndarray__\":\"PRG/DcgdAsChflXa/7AAwC4tSgGQ8QLArXjV6/5uAsB/OOBfNxwDwLQJAJp1kADA7VhZG9GQA8C6vPx66N4BwLnvZ05UvALA5NUzb2iCAcDIACQK0k4BwICPWzp4ngLAbUHW4evKAcBxYBiPIx4FwONkYiHQiQHA78LFMQADAsDEicmkO58BwNTnRqd8hQHAFLKL2CBO/r9wMd43N7gCwDsu6+IFov6/KnpNIB2jAcAkHszufzEGwHOyHOBnIP2/c29EsmPTAcBqStBn+E//v+oJWiugagDA0BcE6nVYAcD16Z27WB8BwCQNM3l7JgLA3+URJwwoAcCzCNRTnk/9v3iUD3eZ3QTAyYxIYeyAA8Dk1TNvaIIBwAfB4qBfsAHAqgtPDPdaAMDk1TNvaIIBwJ7dMoLUfAPAVSP02UddAcA84QHLzkoCwGJzDEaD8v2/X/lj5HF2BMD8iQQfsG3/v/mHnMYlEQHAoe7lFFWaAMDS+qMb0QwDwJJmoB9/LwPALZosq3LQAcDejpZMy6UBwA==\",\"dtype\":\"float64\",\"order\":\"little\",\"shape\":[50]},\"principal component 2\":{\"__ndarray__\":\"ZO9787ku4D/yF8lWE/nkv2nYpqjuYdS/DiSQjGlp4r/T0afLsZflP7q+IZP5S/g/OiSoGooWsz98eXQ10LHPP84IOjG4hfG/gU6pnFa23L9pMKXTKCHxPyy/qP2XTMQ/oqo3kBix5r+HiXLvZwbuv9qryBtaPf4/k7WrfGrHBUBgjF03Ujj4Pzf+/04udeA/9Uk0V9Tl9j8npZIPTofyP3LAlsG9jNs/2/KSxId67j8/u+o4P1TfPx/WDBwFVLs/Se1BJITCxD+zYRod23Pjv2+qjuRgBtE/cYxIfx6q4T/kGaA2hIvVP11BWpX4JtS/QQayRej43r8Slx54QH/cP7lxJTRvQf0/xLJwma57AUCBTqmcVrbcvw7n16FhmMe/tOVDvSnr5T+BTqmcVrbcv3bEP1q7Ouy/eUSP1gm80j9TwmaGk/PdP31/28YcnwLApe8l3FML3b9issu+Q9XfP+zeGJkvvvI/+Iwv2S8k5r9TqsG4/WjyP9OttwhpMde/d+6vZGBo8D/67UmWeoGgPw==\",\"dtype\":\"float64\",\"order\":\"little\",\"shape\":[50]},\"principal_component_1\":{\"__ndarray__\":\"PRG/DcgdAsChflXa/7AAwC4tSgGQ8QLArXjV6/5uAsB/OOBfNxwDwLQJAJp1kADA7VhZG9GQA8C6vPx66N4BwLnvZ05UvALA5NUzb2iCAcDIACQK0k4BwICPWzp4ngLAbUHW4evKAcBxYBiPIx4FwONkYiHQiQHA78LFMQADAsDEicmkO58BwNTnRqd8hQHAFLKL2CBO/r9wMd43N7gCwDsu6+IFov6/KnpNIB2jAcAkHszufzEGwHOyHOBnIP2/c29EsmPTAcBqStBn+E//v+oJWiugagDA0BcE6nVYAcD16Z27WB8BwCQNM3l7JgLA3+URJwwoAcCzCNRTnk/9v3iUD3eZ3QTAyYxIYeyAA8Dk1TNvaIIBwAfB4qBfsAHAqgtPDPdaAMDk1TNvaIIBwJ7dMoLUfAPAVSP02UddAcA84QHLzkoCwGJzDEaD8v2/X/lj5HF2BMD8iQQfsG3/v/mHnMYlEQHAoe7lFFWaAMDS+qMb0QwDwJJmoB9/LwPALZosq3LQAcDejpZMy6UBwA==\",\"dtype\":\"float64\",\"order\":\"little\",\"shape\":[50]},\"principal_component_2\":{\"__ndarray__\":\"ZO9787ku4D/yF8lWE/nkv2nYpqjuYdS/DiSQjGlp4r/T0afLsZflP7q+IZP5S/g/OiSoGooWsz98eXQ10LHPP84IOjG4hfG/gU6pnFa23L9pMKXTKCHxPyy/qP2XTMQ/oqo3kBix5r+HiXLvZwbuv9qryBtaPf4/k7WrfGrHBUBgjF03Ujj4Pzf+/04udeA/9Uk0V9Tl9j8npZIPTofyP3LAlsG9jNs/2/KSxId67j8/u+o4P1TfPx/WDBwFVLs/Se1BJITCxD+zYRod23Pjv2+qjuRgBtE/cYxIfx6q4T/kGaA2hIvVP11BWpX4JtS/QQayRej43r8Slx54QH/cP7lxJTRvQf0/xLJwma57AUCBTqmcVrbcvw7n16FhmMe/tOVDvSnr5T+BTqmcVrbcv3bEP1q7Ouy/eUSP1gm80j9TwmaGk/PdP31/28YcnwLApe8l3FML3b9issu+Q9XfP+zeGJkvvvI/+Iwv2S8k5r9TqsG4/WjyP9OttwhpMde/d+6vZGBo8D/67UmWeoGgPw==\",\"dtype\":\"float64\",\"order\":\"little\",\"shape\":[50]}},\"selected\":{\"id\":\"1898\"},\"selection_policy\":{\"id\":\"1912\"}},\"id\":\"1897\",\"type\":\"ColumnDataSource\"},{\"attributes\":{\"end\":3.5698545102352757,\"reset_end\":3.5698545102352757,\"reset_start\":-3.034883121264353,\"start\":-3.034883121264353,\"tags\":[[[\"principal component 1\",\"principal component 1\",null]]]},\"id\":\"1856\",\"type\":\"Range1d\"},{\"attributes\":{\"axis\":{\"id\":\"1870\"},\"coordinates\":null,\"grid_line_color\":null,\"group\":null,\"ticker\":null},\"id\":\"1873\",\"type\":\"Grid\"},{\"attributes\":{\"fill_alpha\":{\"value\":0.2},\"fill_color\":{\"value\":\"#e5ae38\"},\"hatch_alpha\":{\"value\":0.2},\"hatch_color\":{\"value\":\"#e5ae38\"},\"line_alpha\":{\"value\":0.2},\"line_color\":{\"value\":\"#e5ae38\"},\"size\":{\"value\":5.477225575051661},\"x\":{\"field\":\"principal component 1\"},\"y\":{\"field\":\"principal component 2\"}},\"id\":\"1945\",\"type\":\"Scatter\"},{\"attributes\":{\"coordinates\":null,\"data_source\":{\"id\":\"1897\"},\"glyph\":{\"id\":\"1900\"},\"group\":null,\"hover_glyph\":null,\"muted_glyph\":{\"id\":\"1902\"},\"nonselection_glyph\":{\"id\":\"1901\"},\"selection_glyph\":{\"id\":\"1917\"},\"view\":{\"id\":\"1904\"}},\"id\":\"1903\",\"type\":\"GlyphRenderer\"},{\"attributes\":{\"callback\":null,\"renderers\":[{\"id\":\"1903\"},{\"id\":\"1924\"},{\"id\":\"1946\"}],\"tags\":[\"hv_created\"],\"tooltips\":[[\"class\",\"@{class}\"],[\"principal component 1\",\"@{principal_component_1}\"],[\"principal component 2\",\"@{principal_component_2}\"]]},\"id\":\"1858\",\"type\":\"HoverTool\"},{\"attributes\":{\"children\":[{\"id\":\"1855\"},{\"id\":\"1861\"},{\"id\":\"2090\"}],\"margin\":[0,0,0,0],\"name\":\"Row03290\",\"tags\":[\"embedded\"]},\"id\":\"1854\",\"type\":\"Row\"},{\"attributes\":{\"margin\":[5,5,5,5],\"name\":\"HSpacer03295\",\"sizing_mode\":\"stretch_width\"},\"id\":\"2090\",\"type\":\"Spacer\"},{\"attributes\":{},\"id\":\"1919\",\"type\":\"Selection\"},{\"attributes\":{\"margin\":[5,5,5,5],\"name\":\"HSpacer03294\",\"sizing_mode\":\"stretch_width\"},\"id\":\"1855\",\"type\":\"Spacer\"},{\"attributes\":{},\"id\":\"1896\",\"type\":\"AllLabels\"}],\"root_ids\":[\"1854\"]},\"title\":\"Bokeh Application\",\"version\":\"2.4.1\"}};\n",
       "    var render_items = [{\"docid\":\"c26ce975-440c-44bb-b866-60b7febbf1ae\",\"root_ids\":[\"1854\"],\"roots\":{\"1854\":\"bca33eac-9a10-4015-907b-f30cef14f973\"}}];\n",
       "    root.Bokeh.embed.embed_items_notebook(docs_json, render_items);\n",
       "  }\n",
       "  if (root.Bokeh !== undefined && root.Bokeh.Panel !== undefined) {\n",
       "    embed_document(root);\n",
       "  } else {\n",
       "    var attempts = 0;\n",
       "    var timer = setInterval(function(root) {\n",
       "      if (root.Bokeh !== undefined && root.Bokeh.Panel !== undefined) {\n",
       "        clearInterval(timer);\n",
       "        embed_document(root);\n",
       "      } else if (document.readyState == \"complete\") {\n",
       "        attempts++;\n",
       "        if (attempts > 200) {\n",
       "          clearInterval(timer);\n",
       "          console.log(\"Bokeh: ERROR: Unable to run BokehJS code because BokehJS library is missing\");\n",
       "        }\n",
       "      }\n",
       "    }, 25, root)\n",
       "  }\n",
       "})(window);</script>"
      ],
      "text/plain": [
       ":NdOverlay   [class]\n",
       "   :Scatter   [principal component 1]   (principal component 2,class)"
      ]
     },
     "execution_count": 27,
     "metadata": {
      "application/vnd.holoviews_exec.v0+json": {
       "id": "1854"
      }
     },
     "output_type": "execute_result"
    }
   ],
   "source": [
    "## Plot to show the results of the hierarchiacal clustering algorithm\n",
    "\n",
    "df_iris_pca.hvplot.scatter(\n",
    "    x=\"principal component 1\",\n",
    "    y=\"principal component 2\",\n",
    "    hover_cols=[\"class\"],\n",
    "    by=\"class\",\n",
    ")\n"
   ]
  },
  {
   "cell_type": "code",
   "execution_count": null,
   "metadata": {},
   "outputs": [],
   "source": []
  },
  {
   "cell_type": "code",
   "execution_count": null,
   "metadata": {},
   "outputs": [],
   "source": []
  },
  {
   "cell_type": "code",
   "execution_count": null,
   "metadata": {},
   "outputs": [],
   "source": []
  }
 ],
 "metadata": {
  "interpreter": {
   "hash": "b7c4a6e0a7ecf92747722bc004ca697f68384e8526bbe685b14d64fb56c3184e"
  },
  "kernelspec": {
   "display_name": "Python 3.7.11 ('mlenv')",
   "language": "python",
   "name": "python3"
  },
  "language_info": {
   "codemirror_mode": {
    "name": "ipython",
    "version": 3
   },
   "file_extension": ".py",
   "mimetype": "text/x-python",
   "name": "python",
   "nbconvert_exporter": "python",
   "pygments_lexer": "ipython3",
   "version": "3.7.11"
  },
  "orig_nbformat": 4
 },
 "nbformat": 4,
 "nbformat_minor": 2
}
